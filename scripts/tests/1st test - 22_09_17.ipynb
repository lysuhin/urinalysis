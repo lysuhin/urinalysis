{
 "cells": [
  {
   "cell_type": "code",
   "execution_count": 1,
   "metadata": {
    "collapsed": false
   },
   "outputs": [
    {
     "name": "stdout",
     "output_type": "stream",
     "text": [
      "Populating the interactive namespace from numpy and matplotlib\n"
     ]
    }
   ],
   "source": [
    "%pylab inline"
   ]
  },
  {
   "cell_type": "code",
   "execution_count": 2,
   "metadata": {
    "collapsed": true
   },
   "outputs": [],
   "source": [
    "import numpy as np\n",
    "import pandas as pd\n",
    "import matplotlib.pyplot as plt\n",
    "import seaborn as sns"
   ]
  },
  {
   "cell_type": "code",
   "execution_count": 3,
   "metadata": {
    "collapsed": false
   },
   "outputs": [
    {
     "name": "stdout",
     "output_type": "stream",
     "text": [
      "Contec_device.ods  contec_eye.ods  Measurments_22_09_2017.ods  RealValues.ods\r\n"
     ]
    }
   ],
   "source": [
    "!ls ./data"
   ]
  },
  {
   "cell_type": "code",
   "execution_count": 197,
   "metadata": {
    "collapsed": true
   },
   "outputs": [],
   "source": [
    "data = pd.read_csv('data/full_data.csv')"
   ]
  },
  {
   "cell_type": "code",
   "execution_count": 200,
   "metadata": {
    "collapsed": false
   },
   "outputs": [],
   "source": [
    "indicators = data.columns[1:11]"
   ]
  },
  {
   "cell_type": "code",
   "execution_count": 201,
   "metadata": {
    "collapsed": false
   },
   "outputs": [],
   "source": [
    "real = data[data.Device == 'Sysmex'][indicators].values"
   ]
  },
  {
   "cell_type": "code",
   "execution_count": 203,
   "metadata": {
    "collapsed": false
   },
   "outputs": [],
   "source": [
    "chinese = data[data.Device == 'chinese_device'][indicators].values"
   ]
  },
  {
   "cell_type": "markdown",
   "metadata": {},
   "source": [
    "Будем тестировать точные выборки с помощью биномиального теста. Т.е. будем использовать тест для доли и сравнивать гипотезы о:\n",
    "\n",
    "1) Отличается ли предсказание точного класса от случайного\n",
    "\n",
    "2) Отличается ли предсказание с различием в один класс от случайного\n",
    "\n",
    "3) Потом можно сравнить точности нескольких алгоритмов\n",
    "\n",
    "! Везде нужно делать поправку на множественные сравнения (будем делать методом Бенджамини - Хохберга)"
   ]
  },
  {
   "cell_type": "markdown",
   "metadata": {},
   "source": [
    "# Сравниваем точные показания Sysmex и Китайского прибора"
   ]
  },
  {
   "cell_type": "markdown",
   "metadata": {},
   "source": [
    "## Hard accuracy с помощью биномиального теста"
   ]
  },
  {
   "cell_type": "code",
   "execution_count": 204,
   "metadata": {
    "collapsed": true
   },
   "outputs": [],
   "source": [
    "import scipy.stats as stats"
   ]
  },
  {
   "cell_type": "code",
   "execution_count": 205,
   "metadata": {
    "collapsed": false
   },
   "outputs": [],
   "source": [
    "p_vals = []\n",
    "for i,ind in enumerate(indicators):\n",
    "    sample = 1.*(real[:,i] == chinese[:,i])\n",
    "\n",
    "    n = len(sample)\n",
    "    x = np.sum(sample)\n",
    "    p_vals.append(stats.binom_test(x,n=n,alternative='greater'))\n",
    "p_vals = np.array(p_vals)"
   ]
  },
  {
   "cell_type": "code",
   "execution_count": 206,
   "metadata": {
    "collapsed": false
   },
   "outputs": [
    {
     "data": {
      "text/plain": [
       "Index([u'GLU', u'NIT'], dtype='object')"
      ]
     },
     "execution_count": 206,
     "metadata": {},
     "output_type": "execute_result"
    }
   ],
   "source": [
    "indicators[p_vals<0.05]"
   ]
  },
  {
   "cell_type": "code",
   "execution_count": 207,
   "metadata": {
    "collapsed": true
   },
   "outputs": [],
   "source": [
    "import statsmodels.stats.multitest as ssm"
   ]
  },
  {
   "cell_type": "code",
   "execution_count": 208,
   "metadata": {
    "collapsed": false
   },
   "outputs": [
    {
     "name": "stdout",
     "output_type": "stream",
     "text": [
      "[ 0.36328125  0.14453125  0.14453125  0.63671875  0.14453125  0.03515625\n",
      "  0.85546875  0.96484375  0.03515625  0.99609375]\n"
     ]
    }
   ],
   "source": [
    "print p_vals"
   ]
  },
  {
   "cell_type": "code",
   "execution_count": 209,
   "metadata": {
    "collapsed": false
   },
   "outputs": [
    {
     "data": {
      "text/plain": [
       "(array([False, False, False, False, False, False, False, False, False, False], dtype=bool),\n",
       " array([ 0.60546875,  0.2890625 ,  0.2890625 ,  0.90959821,  0.2890625 ,\n",
       "         0.17578125,  0.99609375,  0.99609375,  0.17578125,  0.99609375]),\n",
       " 0.0051161968918237433,\n",
       " 0.005)"
      ]
     },
     "execution_count": 209,
     "metadata": {},
     "output_type": "execute_result"
    }
   ],
   "source": [
    "ssm.multipletests(p_vals,method='fdr_bh')"
   ]
  },
  {
   "cell_type": "markdown",
   "metadata": {},
   "source": [
    "**Промежуточные выводы**: \n",
    "- Статистически значимые отличия биномиальным тестом на таком размере выборки c учётом множественной проверки гипотез подтвердить не удаётся. \n",
    "- Hard_accuracy китайского прибора в сравнении с sysmex мала"
   ]
  },
  {
   "cell_type": "code",
   "execution_count": 210,
   "metadata": {
    "collapsed": false
   },
   "outputs": [
    {
     "data": {
      "text/plain": [
       "array([ 0.625,  0.75 ,  0.75 ,  0.5  ,  0.75 ,  0.875,  0.375,  0.25 ,\n",
       "        0.875,  0.125])"
      ]
     },
     "execution_count": 210,
     "metadata": {},
     "output_type": "execute_result"
    }
   ],
   "source": [
    "np.sum(real == chinese,axis=0)/float(real.shape[0])"
   ]
  },
  {
   "cell_type": "code",
   "execution_count": 211,
   "metadata": {
    "collapsed": false
   },
   "outputs": [
    {
     "name": "stdout",
     "output_type": "stream",
     "text": [
      "Index([u'URO', u'BLO', u'BIL', u'KET', u'LEU', u'GLU', u'PRO', u'PH', u'NIT',\n",
      "       u'SG'],\n",
      "      dtype='object')\n"
     ]
    }
   ],
   "source": [
    "print indicators"
   ]
  },
  {
   "cell_type": "markdown",
   "metadata": {},
   "source": [
    "## Soft accuracy с помощью биномиального теста"
   ]
  },
  {
   "cell_type": "code",
   "execution_count": 212,
   "metadata": {
    "collapsed": true
   },
   "outputs": [],
   "source": [
    "p_vals = []\n",
    "for i,ind in enumerate(indicators):\n",
    "    sample = np.abs(real[:,i] - chinese[:,i]) <= 1\n",
    "\n",
    "    n = len(sample)\n",
    "    x = np.sum(sample)\n",
    "    p_vals.append(stats.binom_test(x,n=n,alternative='greater'))\n",
    "p_vals = np.array(p_vals)"
   ]
  },
  {
   "cell_type": "markdown",
   "metadata": {},
   "source": [
    "### Индикаторы, для которых работает \"отличие в один класс\" "
   ]
  },
  {
   "cell_type": "code",
   "execution_count": 213,
   "metadata": {
    "collapsed": false
   },
   "outputs": [
    {
     "data": {
      "text/plain": [
       "Index([u'URO', u'BIL', u'KET', u'LEU', u'GLU', u'PRO', u'PH', u'NIT'], dtype='object')"
      ]
     },
     "execution_count": 213,
     "metadata": {},
     "output_type": "execute_result"
    }
   ],
   "source": [
    "indicators[ssm.multipletests(p_vals,method='fdr_bh')[0]]"
   ]
  },
  {
   "cell_type": "code",
   "execution_count": 214,
   "metadata": {
    "collapsed": false
   },
   "outputs": [
    {
     "name": "stdout",
     "output_type": "stream",
     "text": [
      "Soft точности\n",
      "URO 0.875   BLO 0.75   BIL 1.0   KET 0.875   LEU 0.875   GLU 0.875   PRO 0.875   PH 0.875   NIT 0.875   SG 0.5  \n"
     ]
    }
   ],
   "source": [
    "print \"Soft точности\"\n",
    "soft_accs = np.sum(np.abs(real - chinese)<=1,axis=0)/float(real.shape[0])\n",
    "for ind,acc in zip(indicators,soft_accs):\n",
    "    print ind,acc,' ', "
   ]
  },
  {
   "cell_type": "markdown",
   "metadata": {},
   "source": [
    "# Cравниваем показания телефонов между собой"
   ]
  },
  {
   "cell_type": "code",
   "execution_count": 223,
   "metadata": {
    "collapsed": false
   },
   "outputs": [],
   "source": [
    "phones = ['Samsung','XiaomiB','XiaomiD']\n",
    "template_types = ['inkjet','laser']"
   ]
  },
  {
   "cell_type": "code",
   "execution_count": 224,
   "metadata": {
    "collapsed": true
   },
   "outputs": [],
   "source": [
    "from itertools import combinations"
   ]
  },
  {
   "cell_type": "code",
   "execution_count": 249,
   "metadata": {
    "collapsed": false
   },
   "outputs": [],
   "source": [
    "data = data.sort_values(by='ID')"
   ]
  },
  {
   "cell_type": "code",
   "execution_count": 269,
   "metadata": {
    "collapsed": false,
    "scrolled": false
   },
   "outputs": [
    {
     "name": "stdout",
     "output_type": "stream",
     "text": [
      "Тип полоски:  contec\n",
      "Тип шаблона:  inkjet Сравниваемые телефоны:  Samsung XiaomiB\n",
      "Средняя hard-точность  0.6125\n",
      "++++++++++ \n",
      "\n",
      "Тип шаблона:  inkjet Сравниваемые телефоны:  Samsung XiaomiD\n",
      "Средняя hard-точность  0.6625\n",
      "++++++++++ \n",
      "\n",
      "Тип шаблона:  inkjet Сравниваемые телефоны:  XiaomiB XiaomiD\n",
      "Средняя hard-точность  0.7\n",
      "++++++++++ \n",
      "\n",
      "Тип шаблона:  laser Сравниваемые телефоны:  Samsung XiaomiB\n",
      "Средняя hard-точность  0.675\n",
      "++++++++++ \n",
      "\n",
      "Тип шаблона:  laser Сравниваемые телефоны:  Samsung XiaomiD\n",
      "Средняя hard-точность  0.7125\n",
      "++++++++++ \n",
      "\n",
      "Тип шаблона:  laser Сравниваемые телефоны:  XiaomiB XiaomiD\n",
      "Средняя hard-точность  0.825\n",
      "++++++++++ \n",
      "\n"
     ]
    }
   ],
   "source": [
    "stripe_type = 'contec'\n",
    "\n",
    "print \"Тип полоски: \",stripe_type\n",
    "\n",
    "for templ in template_types:\n",
    "    for phone_i, phone_j in combinations(phones,2):\n",
    "        x = data[(data.Device==phone_i)& (data.Template == templ)&(data.Strip==stripe_type)].iloc[:,:-2]\n",
    "        y = data[(data.Device==phone_j)&(data.Template == templ)&(data.Strip==stripe_type)].iloc[:,:-2]\n",
    "\n",
    "#         print phone_i\n",
    "#         print x \n",
    "#         print phone_j\n",
    "#         print y\n",
    "#         print indicators.values\n",
    "        print \"Тип шаблона: \",templ, \"Сравниваемые телефоны: \", phone_i, phone_j\n",
    "        print \"Средняя hard-точность \",\n",
    "        print np.mean(np.sum(x[indicators].values == y[indicators].values,axis=0)/float(x.shape[0]))\n",
    "        \n",
    "        print '++++++++++ \\n'"
   ]
  },
  {
   "cell_type": "code",
   "execution_count": 275,
   "metadata": {
    "collapsed": false
   },
   "outputs": [
    {
     "name": "stdout",
     "output_type": "stream",
     "text": [
      "Тип полоски:  contec\n",
      "inkjet Samsung XiaomiB\n",
      "Средняя soft-точность  0.825\n",
      "++++++++++ \n",
      "\n",
      "inkjet Samsung XiaomiD\n",
      "Средняя soft-точность  0.9375\n",
      "++++++++++ \n",
      "\n",
      "inkjet XiaomiB XiaomiD\n",
      "Средняя soft-точность  0.9\n",
      "++++++++++ \n",
      "\n",
      "laser Samsung XiaomiB\n",
      "Средняя soft-точность  0.9\n",
      "++++++++++ \n",
      "\n",
      "laser Samsung XiaomiD\n",
      "Средняя soft-точность  0.95\n",
      "++++++++++ \n",
      "\n",
      "laser XiaomiB XiaomiD\n",
      "Средняя soft-точность  0.9375\n",
      "++++++++++ \n",
      "\n"
     ]
    }
   ],
   "source": [
    "print \"Тип полоски: \",stripe_type\n",
    "\n",
    "for templ in template_types:\n",
    "    for phone_i, phone_j in combinations(phones,2):\n",
    "        x = data[(data.Device==phone_i)& (data.Template == templ)&(data.Strip==stripe_type)].iloc[:,:-2]\n",
    "        y = data[(data.Device==phone_j)&(data.Template == templ)&(data.Strip==stripe_type)].iloc[:,:-2]\n",
    "\n",
    "#         print phone_i\n",
    "#         print x \n",
    "#         print phone_j\n",
    "#         print y\n",
    "#         print indicators.values\n",
    "        print templ, phone_i, phone_j\n",
    "        print \"Средняя soft-точность \",\n",
    "        print np.mean(np.sum(np.abs(x[indicators].values - y[indicators].values)<=1,axis=0)/float(x.shape[0]))\n",
    "        \n",
    "        print '++++++++++ \\n'"
   ]
  },
  {
   "cell_type": "markdown",
   "metadata": {},
   "source": [
    "#### Выводы: даже показания с различных телефонов отличаются между собой.\n",
    "\n",
    "Возможные причины: \n",
    "- изменение цвета индикатора на полоске за время между фотографиями (?)\n",
    "- деградация шаблона\n",
    "- реально различная цветопередача телефонов (как же так)\n",
    "- неодинаковая неоднородная затенненность\n",
    "\n",
    "\n",
    "***НУЖНО ПОСМОТРЕТЬ НА ФОТОГРАФИИ И ПРЕДСКАЗАНИЯ!***"
   ]
  },
  {
   "cell_type": "markdown",
   "metadata": {},
   "source": [
    "# Сравниваем показания глаза и телефона"
   ]
  },
  {
   "cell_type": "code",
   "execution_count": 279,
   "metadata": {
    "collapsed": false
   },
   "outputs": [],
   "source": [
    "eye_data = data[data.Device == 'eye'][indicators].values"
   ]
  },
  {
   "cell_type": "code",
   "execution_count": 285,
   "metadata": {
    "collapsed": false
   },
   "outputs": [
    {
     "name": "stdout",
     "output_type": "stream",
     "text": [
      "[[ 1.  0.  0.  3.  0.  0.  1.  5.  0.  3.]\n",
      " [ 0.  0.  0.  2.  0.  0.  0.  1.  0.  6.]\n",
      " [ 0.  0.  0.  0.  0.  0.  1.  1.  0.  6.]\n",
      " [ 0.  0.  2.  0.  0.  0.  1.  1.  0.  6.]\n",
      " [ 1.  0.  2.  0.  0.  0.  1.  1.  0.  6.]\n",
      " [ 0.  4.  2.  0.  0.  0.  0.  1.  0.  3.]]\n"
     ]
    }
   ],
   "source": [
    "print eye_data"
   ]
  },
  {
   "cell_type": "code",
   "execution_count": 318,
   "metadata": {
    "collapsed": false
   },
   "outputs": [
    {
     "name": "stdout",
     "output_type": "stream",
     "text": [
      "[[ 0.  2.  1.  0.  0.  1.  0.  5.  1.  3.]\n",
      " [ 0.  2.  1.  1.  0.  1.  0.  0.  0.  6.]\n",
      " [ 0.  0.  2.  0.  0.  1.  1.  0.  1.  6.]\n",
      " [ 0.  2.  1.  1.  0.  0.  0.  1.  0.  4.]\n",
      " [ 0.  2.  2.  0.  0.  1.  0.  1.  1.  5.]\n",
      " [ 0.  3.  0.  0.  0.  1.  0.  0.  0.  5.]]\n",
      "[[ 0.  3.  1.  2.  0.  5.  0.  4.  0.  3.]\n",
      " [ 0.  3.  0.  0.  0.  5.  0.  0.  0.  6.]\n",
      " [ 0.  3.  0.  0.  0.  5.  0.  0.  1.  6.]\n",
      " [ 0.  2.  0.  0.  0.  5.  0.  0.  0.  6.]\n",
      " [ 0.  2.  1.  0.  0.  5.  0.  1.  0.  6.]\n",
      " [ 0.  4.  0.  0.  0.  5.  0.  0.  0.  5.]]\n",
      "[[ 0.  2.  0.  2.  0.  0.  0.  5.  0.  3.]\n",
      " [ 0.  2.  1.  0.  0.  0.  0.  0.  0.  6.]\n",
      " [ 0.  2.  1.  0.  0.  0.  1.  0.  0.  6.]\n",
      " [ 0.  2.  1.  0.  0.  0.  0.  0.  0.  6.]\n",
      " [ 0.  2.  0.  0.  0.  0.  0.  1.  0.  6.]\n",
      " [ 0.  3.  1.  0.  0.  0.  0.  0.  0.  4.]]\n"
     ]
    }
   ],
   "source": [
    "for templ in ['inkjet']:\n",
    "    for phone in phones:\n",
    "        phone_data = data[(data.Device==phone)&(data.Strip=='contec')&(data.Template==templ)][indicators].iloc[:-2].values\n",
    "\n",
    "        phone\n",
    "        print phone_data\n",
    "        "
   ]
  },
  {
   "cell_type": "code",
   "execution_count": 334,
   "metadata": {
    "collapsed": false
   },
   "outputs": [
    {
     "name": "stdout",
     "output_type": "stream",
     "text": [
      "inkjet Samsung\n",
      "['URO' 'BLO' 'BIL' 'KET' 'LEU' 'GLU' 'PRO' 'PH' 'NIT' 'SG']\n",
      "[ 0.67  0.17  0.17  0.5   1.    0.17  0.5   0.5   0.5   0.5 ]\n",
      "\n",
      "inkjet XiaomiB\n",
      "['URO' 'BLO' 'BIL' 'KET' 'LEU' 'GLU' 'PRO' 'PH' 'NIT' 'SG']\n",
      "[ 0.67  0.17  0.33  0.67  1.    0.    0.33  0.17  0.83  0.83]\n",
      "\n",
      "inkjet XiaomiD\n",
      "['URO' 'BLO' 'BIL' 'KET' 'LEU' 'GLU' 'PRO' 'PH' 'NIT' 'SG']\n",
      "[ 0.67  0.    0.17  0.67  1.    1.    0.5   0.33  1.    0.83]\n",
      "\n",
      "laser Samsung\n",
      "['URO' 'BLO' 'BIL' 'KET' 'LEU' 'GLU' 'PRO' 'PH' 'NIT' 'SG']\n",
      "[ 0.67  0.    0.    0.67  1.    0.83  0.83  0.5   0.83  0.67]\n",
      "\n",
      "laser XiaomiB\n",
      "['URO' 'BLO' 'BIL' 'KET' 'LEU' 'GLU' 'PRO' 'PH' 'NIT' 'SG']\n",
      "[ 0.67  0.17  0.17  0.67  1.    0.    0.33  0.67  0.5   0.67]\n",
      "\n",
      "laser XiaomiD\n",
      "['URO' 'BLO' 'BIL' 'KET' 'LEU' 'GLU' 'PRO' 'PH' 'NIT' 'SG']\n",
      "[ 0.67  0.    0.17  0.67  1.    0.67  0.33  0.83  1.    0.67]\n",
      "\n"
     ]
    }
   ],
   "source": [
    "for templ in template_types:\n",
    "    for phone in phones:\n",
    "        phone_data = data[(data.Device==phone)&(data.Strip=='contec')&(data.Template==templ)][indicators].iloc[:-2].values\n",
    "        \n",
    "        print templ,phone\n",
    "        #print np.mean(phone_data == eye_data)\n",
    "        print indicators.values\n",
    "        print np.mean(phone_data==eye_data,axis=0).values.round(2)\n",
    "        print \n",
    "        "
   ]
  },
  {
   "cell_type": "code",
   "execution_count": 337,
   "metadata": {
    "collapsed": false
   },
   "outputs": [
    {
     "name": "stdout",
     "output_type": "stream",
     "text": [
      "inkjet Samsung\n",
      "['URO' 'BLO' 'BIL' 'KET' 'LEU' 'GLU' 'PRO' 'PH' 'NIT' 'SG']\n",
      "[ 1.    0.33  0.67  0.83  1.    1.    1.    1.    1.    0.67]\n",
      "inkjet XiaomiB\n",
      "['URO' 'BLO' 'BIL' 'KET' 'LEU' 'GLU' 'PRO' 'PH' 'NIT' 'SG']\n",
      "[ 1.    0.17  0.67  0.83  1.    0.    1.    1.    1.    0.83]\n",
      "inkjet XiaomiD\n",
      "['URO' 'BLO' 'BIL' 'KET' 'LEU' 'GLU' 'PRO' 'PH' 'NIT' 'SG']\n",
      "[ 1.    0.17  0.83  0.83  1.    1.    1.    1.    1.    1.  ]\n",
      "laser Samsung\n",
      "['URO' 'BLO' 'BIL' 'KET' 'LEU' 'GLU' 'PRO' 'PH' 'NIT' 'SG']\n",
      "[ 1.    0.33  0.67  0.67  1.    0.83  1.    1.    0.83  0.67]\n",
      "laser XiaomiB\n",
      "['URO' 'BLO' 'BIL' 'KET' 'LEU' 'GLU' 'PRO' 'PH' 'NIT' 'SG']\n",
      "[ 1.    0.17  0.67  0.67  1.    0.    1.    1.    1.    0.83]\n",
      "laser XiaomiD\n",
      "['URO' 'BLO' 'BIL' 'KET' 'LEU' 'GLU' 'PRO' 'PH' 'NIT' 'SG']\n",
      "[ 1.    0.17  0.67  0.83  1.    0.67  1.    1.    1.    0.83]\n"
     ]
    }
   ],
   "source": [
    "for templ in template_types:\n",
    "    for phone in phones:\n",
    "        phone_data = data[(data.Device==phone)&(data.Strip=='contec')&(data.Template==templ)][indicators].iloc[:-2].values\n",
    "\n",
    "        print templ,phone\n",
    "        print indicators.values\n",
    "        print np.mean(np.abs(phone_data-eye_data)<=1,axis=0).values.round(2)\n",
    "        "
   ]
  },
  {
   "cell_type": "code",
   "execution_count": 338,
   "metadata": {
    "collapsed": false
   },
   "outputs": [],
   "source": [
    "eye_data = data[(data.Device=='eye')][indicators]"
   ]
  },
  {
   "cell_type": "code",
   "execution_count": 345,
   "metadata": {
    "collapsed": true
   },
   "outputs": [],
   "source": [
    "real_data = data[(data.Device=='Sysmex')][indicators]"
   ]
  },
  {
   "cell_type": "code",
   "execution_count": 346,
   "metadata": {
    "collapsed": true
   },
   "outputs": [],
   "source": [
    "chinese_data = data[data.Device == 'chinese_device'][indicators]"
   ]
  },
  {
   "cell_type": "code",
   "execution_count": 348,
   "metadata": {
    "collapsed": false
   },
   "outputs": [
    {
     "name": "stdout",
     "output_type": "stream",
     "text": [
      "    URO  BLO  BIL  KET  LEU  GLU  PRO  PH  NIT   SG\n",
      "13    0    0    1    3    0    0    0   5    0  3.0\n",
      "15    0    0    0    0    0    0    0   1    0  6.0\n",
      "14    0    0    1    0    0    0    0   1    0  6.0\n",
      "11    0    0    0    0    0    0    0   1    0  6.0\n",
      "12    0    0    0    0    0    0    0   1    0  6.0\n",
      "10    0    0    0    0    0    0    0   1    0  6.0\n",
      "8     0    0    0    2    0    0    0   3    0  3.0\n",
      "9     0    0    2    0    0    5    3   1    0  4.0\n"
     ]
    }
   ],
   "source": [
    "print chinese_data"
   ]
  },
  {
   "cell_type": "code",
   "execution_count": 349,
   "metadata": {
    "collapsed": false
   },
   "outputs": [
    {
     "name": "stdout",
     "output_type": "stream",
     "text": [
      "   URO  BLO  BIL  KET  LEU  GLU  PRO  PH  NIT   SG\n",
      "5    1    0    0    2    0    0    1   6    0  5.0\n",
      "7    0    0    0    2    0    0    1   0    0  5.0\n",
      "6    0    0    0    1    0    0    2   1    0  6.0\n",
      "3    0    0    0    0    1    0    1   2    0  4.0\n",
      "4    1    0    0    0    0    0    0   2    0  4.0\n",
      "2    0    4    0    0    0    0    0   1    0  3.0\n",
      "0    2    0    0    3    3    0    1   5    0  4.0\n",
      "1    0    5    2    0    0    3    3   2    2  3.0\n"
     ]
    }
   ],
   "source": [
    "print real_data"
   ]
  },
  {
   "cell_type": "code",
   "execution_count": 351,
   "metadata": {
    "collapsed": false
   },
   "outputs": [
    {
     "name": "stdout",
     "output_type": "stream",
     "text": [
      "[[False  True False False  True  True False False  True False]\n",
      " [ True  True  True False  True  True False False  True False]\n",
      " [ True  True False False  True  True False  True  True  True]\n",
      " [ True  True  True  True False  True False False  True False]\n",
      " [False  True  True  True  True  True  True False  True False]\n",
      " [ True False  True  True  True  True  True  True  True False]\n",
      " [False  True  True False False  True False False  True False]\n",
      " [ True False  True  True  True False  True False False False]]\n"
     ]
    }
   ],
   "source": [
    "print real_data.values == chinese_data.values"
   ]
  },
  {
   "cell_type": "code",
   "execution_count": 340,
   "metadata": {
    "collapsed": false
   },
   "outputs": [
    {
     "data": {
      "text/plain": [
       "0.71666666666666667"
      ]
     },
     "execution_count": 340,
     "metadata": {},
     "output_type": "execute_result"
    }
   ],
   "source": [
    "np.mean(real_data.values == eye_data.values)"
   ]
  },
  {
   "cell_type": "code",
   "execution_count": 341,
   "metadata": {
    "collapsed": false
   },
   "outputs": [
    {
     "data": {
      "text/plain": [
       "0.90000000000000002"
      ]
     },
     "execution_count": 341,
     "metadata": {},
     "output_type": "execute_result"
    }
   ],
   "source": [
    "np.mean(np.abs(real_data.values - eye_data.values)<=1)"
   ]
  },
  {
   "cell_type": "code",
   "execution_count": 342,
   "metadata": {
    "collapsed": false
   },
   "outputs": [
    {
     "name": "stdout",
     "output_type": "stream",
     "text": [
      "[[ True  True  True  True  True  True  True  True  True False]\n",
      " [ True  True  True  True  True  True  True  True  True  True]\n",
      " [ True  True  True  True  True  True  True  True  True  True]\n",
      " [ True  True False  True  True  True  True  True  True False]\n",
      " [ True  True False  True  True  True  True  True  True False]\n",
      " [ True  True False  True  True  True  True  True  True  True]]\n"
     ]
    }
   ],
   "source": [
    "print np.abs(real_data.values - eye_data.values)<=1"
   ]
  },
  {
   "cell_type": "code",
   "execution_count": 343,
   "metadata": {
    "collapsed": false
   },
   "outputs": [
    {
     "name": "stdout",
     "output_type": "stream",
     "text": [
      "   URO  BLO  BIL  KET  LEU  GLU  PRO  PH  NIT   SG\n",
      "5    1    0    0    2    0    0    1   6    0  5.0\n",
      "7    0    0    0    2    0    0    1   0    0  5.0\n",
      "6    0    0    0    1    0    0    2   1    0  6.0\n",
      "3    0    0    0    0    1    0    1   2    0  4.0\n",
      "4    1    0    0    0    0    0    0   2    0  4.0\n",
      "2    0    4    0    0    0    0    0   1    0  3.0\n"
     ]
    }
   ],
   "source": [
    "print real_data"
   ]
  },
  {
   "cell_type": "code",
   "execution_count": 344,
   "metadata": {
    "collapsed": false
   },
   "outputs": [
    {
     "name": "stdout",
     "output_type": "stream",
     "text": [
      "    URO  BLO  BIL  KET  LEU  GLU  PRO  PH  NIT   SG\n",
      "19    1    0    0    3    0    0    1   5    0  3.0\n",
      "21    0    0    0    2    0    0    0   1    0  6.0\n",
      "20    0    0    0    0    0    0    1   1    0  6.0\n",
      "17    0    0    2    0    0    0    1   1    0  6.0\n",
      "18    1    0    2    0    0    0    1   1    0  6.0\n",
      "16    0    4    2    0    0    0    0   1    0  3.0\n"
     ]
    }
   ],
   "source": [
    "print eye_data"
   ]
  },
  {
   "cell_type": "markdown",
   "metadata": {},
   "source": [
    "###  Выводы:\n",
    "\n",
    "- Нужна более разнородная выборка, объем выборки должен быть больше\n",
    "- Нужно попробовать фотографировать со вспышкой\n",
    "- Нужно определенным образом выбрать шаблон. Подходит ли этот? (Нет)"
   ]
  },
  {
   "cell_type": "code",
   "execution_count": 375,
   "metadata": {
    "collapsed": true
   },
   "outputs": [],
   "source": [
    "real_data = data[(data.Device=='Sysmex')&(data.Strip=='sysmex')][indicators].values[:,:-1]"
   ]
  },
  {
   "cell_type": "code",
   "execution_count": 376,
   "metadata": {
    "collapsed": true
   },
   "outputs": [],
   "source": [
    "phone_data = data[(data.Device==phone)&(data.Strip=='sysmex')&(data.Template==templ)]"
   ]
  },
  {
   "cell_type": "code",
   "execution_count": 377,
   "metadata": {
    "collapsed": false
   },
   "outputs": [
    {
     "data": {
      "text/html": [
       "<div>\n",
       "<style>\n",
       "    .dataframe thead tr:only-child th {\n",
       "        text-align: right;\n",
       "    }\n",
       "\n",
       "    .dataframe thead th {\n",
       "        text-align: left;\n",
       "    }\n",
       "\n",
       "    .dataframe tbody tr th {\n",
       "        vertical-align: top;\n",
       "    }\n",
       "</style>\n",
       "<table border=\"1\" class=\"dataframe\">\n",
       "  <thead>\n",
       "    <tr style=\"text-align: right;\">\n",
       "      <th></th>\n",
       "      <th>ID</th>\n",
       "      <th>URO</th>\n",
       "      <th>BLO</th>\n",
       "      <th>BIL</th>\n",
       "      <th>KET</th>\n",
       "      <th>LEU</th>\n",
       "      <th>GLU</th>\n",
       "      <th>PRO</th>\n",
       "      <th>PH</th>\n",
       "      <th>NIT</th>\n",
       "      <th>SG</th>\n",
       "      <th>Strip</th>\n",
       "      <th>Template</th>\n",
       "      <th>Device</th>\n",
       "    </tr>\n",
       "  </thead>\n",
       "  <tbody>\n",
       "    <tr>\n",
       "      <th>39</th>\n",
       "      <td>10114450</td>\n",
       "      <td>0</td>\n",
       "      <td>2</td>\n",
       "      <td>0</td>\n",
       "      <td>0</td>\n",
       "      <td>0</td>\n",
       "      <td>3</td>\n",
       "      <td>0</td>\n",
       "      <td>5</td>\n",
       "      <td>0</td>\n",
       "      <td>NaN</td>\n",
       "      <td>sysmex</td>\n",
       "      <td>inkjet</td>\n",
       "      <td>Samsung</td>\n",
       "    </tr>\n",
       "    <tr>\n",
       "      <th>40</th>\n",
       "      <td>10114975</td>\n",
       "      <td>0</td>\n",
       "      <td>3</td>\n",
       "      <td>0</td>\n",
       "      <td>0</td>\n",
       "      <td>0</td>\n",
       "      <td>0</td>\n",
       "      <td>0</td>\n",
       "      <td>3</td>\n",
       "      <td>0</td>\n",
       "      <td>NaN</td>\n",
       "      <td>sysmex</td>\n",
       "      <td>inkjet</td>\n",
       "      <td>Samsung</td>\n",
       "    </tr>\n",
       "    <tr>\n",
       "      <th>41</th>\n",
       "      <td>10115025</td>\n",
       "      <td>0</td>\n",
       "      <td>2</td>\n",
       "      <td>1</td>\n",
       "      <td>0</td>\n",
       "      <td>1</td>\n",
       "      <td>3</td>\n",
       "      <td>1</td>\n",
       "      <td>2</td>\n",
       "      <td>1</td>\n",
       "      <td>NaN</td>\n",
       "      <td>sysmex</td>\n",
       "      <td>inkjet</td>\n",
       "      <td>Samsung</td>\n",
       "    </tr>\n",
       "    <tr>\n",
       "      <th>44</th>\n",
       "      <td>30305691</td>\n",
       "      <td>0</td>\n",
       "      <td>3</td>\n",
       "      <td>0</td>\n",
       "      <td>0</td>\n",
       "      <td>1</td>\n",
       "      <td>0</td>\n",
       "      <td>0</td>\n",
       "      <td>2</td>\n",
       "      <td>0</td>\n",
       "      <td>NaN</td>\n",
       "      <td>sysmex</td>\n",
       "      <td>inkjet</td>\n",
       "      <td>Samsung</td>\n",
       "    </tr>\n",
       "    <tr>\n",
       "      <th>43</th>\n",
       "      <td>30305695</td>\n",
       "      <td>0</td>\n",
       "      <td>3</td>\n",
       "      <td>0</td>\n",
       "      <td>0</td>\n",
       "      <td>0</td>\n",
       "      <td>0</td>\n",
       "      <td>0</td>\n",
       "      <td>3</td>\n",
       "      <td>0</td>\n",
       "      <td>NaN</td>\n",
       "      <td>sysmex</td>\n",
       "      <td>inkjet</td>\n",
       "      <td>Samsung</td>\n",
       "    </tr>\n",
       "    <tr>\n",
       "      <th>46</th>\n",
       "      <td>30305842</td>\n",
       "      <td>0</td>\n",
       "      <td>5</td>\n",
       "      <td>1</td>\n",
       "      <td>0</td>\n",
       "      <td>1</td>\n",
       "      <td>1</td>\n",
       "      <td>2</td>\n",
       "      <td>3</td>\n",
       "      <td>1</td>\n",
       "      <td>NaN</td>\n",
       "      <td>sysmex</td>\n",
       "      <td>inkjet</td>\n",
       "      <td>Samsung</td>\n",
       "    </tr>\n",
       "    <tr>\n",
       "      <th>42</th>\n",
       "      <td>check_1</td>\n",
       "      <td>2</td>\n",
       "      <td>0</td>\n",
       "      <td>1</td>\n",
       "      <td>2</td>\n",
       "      <td>2</td>\n",
       "      <td>3</td>\n",
       "      <td>1</td>\n",
       "      <td>6</td>\n",
       "      <td>1</td>\n",
       "      <td>NaN</td>\n",
       "      <td>sysmex</td>\n",
       "      <td>inkjet</td>\n",
       "      <td>Samsung</td>\n",
       "    </tr>\n",
       "    <tr>\n",
       "      <th>47</th>\n",
       "      <td>check_2</td>\n",
       "      <td>0</td>\n",
       "      <td>2</td>\n",
       "      <td>1</td>\n",
       "      <td>0</td>\n",
       "      <td>0</td>\n",
       "      <td>3</td>\n",
       "      <td>4</td>\n",
       "      <td>5</td>\n",
       "      <td>1</td>\n",
       "      <td>NaN</td>\n",
       "      <td>sysmex</td>\n",
       "      <td>inkjet</td>\n",
       "      <td>Samsung</td>\n",
       "    </tr>\n",
       "  </tbody>\n",
       "</table>\n",
       "</div>"
      ],
      "text/plain": [
       "          ID  URO  BLO  BIL  KET  LEU  GLU  PRO  PH  NIT  SG   Strip Template  \\\n",
       "39  10114450    0    2    0    0    0    3    0   5    0 NaN  sysmex   inkjet   \n",
       "40  10114975    0    3    0    0    0    0    0   3    0 NaN  sysmex   inkjet   \n",
       "41  10115025    0    2    1    0    1    3    1   2    1 NaN  sysmex   inkjet   \n",
       "44  30305691    0    3    0    0    1    0    0   2    0 NaN  sysmex   inkjet   \n",
       "43  30305695    0    3    0    0    0    0    0   3    0 NaN  sysmex   inkjet   \n",
       "46  30305842    0    5    1    0    1    1    2   3    1 NaN  sysmex   inkjet   \n",
       "42   check_1    2    0    1    2    2    3    1   6    1 NaN  sysmex   inkjet   \n",
       "47   check_2    0    2    1    0    0    3    4   5    1 NaN  sysmex   inkjet   \n",
       "\n",
       "     Device  \n",
       "39  Samsung  \n",
       "40  Samsung  \n",
       "41  Samsung  \n",
       "44  Samsung  \n",
       "43  Samsung  \n",
       "46  Samsung  \n",
       "42  Samsung  \n",
       "47  Samsung  "
      ]
     },
     "execution_count": 377,
     "metadata": {},
     "output_type": "execute_result"
    }
   ],
   "source": [
    "phone_data.iloc[:-1]"
   ]
  },
  {
   "cell_type": "code",
   "execution_count": 389,
   "metadata": {
    "collapsed": false
   },
   "outputs": [
    {
     "name": "stdout",
     "output_type": "stream",
     "text": [
      "inkjet Samsung\n",
      "['URO' 'BLO' 'BIL' 'KET' 'LEU' 'GLU' 'PRO' 'PH' 'NIT' 'SG']\n",
      "[ 0.75  0.12  0.5   0.5   0.62  0.5   0.25  0.12  0.5 ]\n",
      "0.430555555556\n",
      "inkjet XiaomiB\n",
      "['URO' 'BLO' 'BIL' 'KET' 'LEU' 'GLU' 'PRO' 'PH' 'NIT' 'SG']\n",
      "[ 0.62  0.    0.25  0.5   0.38  0.12  0.12  0.    0.  ]\n",
      "0.222222222222\n",
      "inkjet XiaomiD\n",
      "['URO' 'BLO' 'BIL' 'KET' 'LEU' 'GLU' 'PRO' 'PH' 'NIT' 'SG']\n",
      "[ 0.75  0.    0.62  0.5   0.62  0.    0.62  0.12  0.  ]\n",
      "0.361111111111\n"
     ]
    }
   ],
   "source": [
    "templ = 'inkjet'\n",
    "for phone in phones:\n",
    "    phone_data = data[(data.Device==phone)&(data.Strip=='sysmex')&(data.Template==templ)][indicators].iloc[:-1,:-1].values\n",
    "    print templ,phone\n",
    "        #print np.mean(phone_data == eye_data)\n",
    "    print indicators.values\n",
    "    print np.mean(phone_data==real_data,axis=0).round(2)\n",
    "    print np.mean(phone_data==real_data)\n",
    "        "
   ]
  },
  {
   "cell_type": "code",
   "execution_count": 386,
   "metadata": {
    "collapsed": false
   },
   "outputs": [
    {
     "name": "stdout",
     "output_type": "stream",
     "text": [
      "inkjet Samsung\n",
      "['URO' 'BLO' 'BIL' 'KET' 'LEU' 'GLU' 'PRO' 'PH' 'NIT' 'SG']\n",
      "[ 1.    0.25  1.    0.75  1.    0.62  0.88  0.62  1.  ]\n",
      "0.791666666667\n",
      "inkjet XiaomiB\n",
      "['URO' 'BLO' 'BIL' 'KET' 'LEU' 'GLU' 'PRO' 'PH' 'NIT' 'SG']\n",
      "[ 1.    0.    0.75  0.88  0.88  0.12  0.62  0.62  0.88]\n",
      "0.638888888889\n",
      "inkjet XiaomiD\n",
      "['URO' 'BLO' 'BIL' 'KET' 'LEU' 'GLU' 'PRO' 'PH' 'NIT' 'SG']\n",
      "[ 1.    0.12  0.88  0.75  0.88  0.12  0.88  0.62  1.  ]\n",
      "0.694444444444\n"
     ]
    }
   ],
   "source": [
    "templ = 'inkjet'\n",
    "for phone in phones:\n",
    "    phone_data = data[(data.Device==phone)&(data.Strip=='sysmex')&(data.Template==templ)][indicators].iloc[:-1,:-1].values\n",
    "    print templ,phone\n",
    "        #print np.mean(phone_data == eye_data)\n",
    "    print indicators.values\n",
    "    print np.mean(np.abs(phone_data-real_data)<=1,axis=0).round(2)\n",
    "    print np.mean(np.abs(phone_data-real_data)<=1)"
   ]
  },
  {
   "cell_type": "code",
   "execution_count": null,
   "metadata": {
    "collapsed": true
   },
   "outputs": [],
   "source": []
  }
 ],
 "metadata": {
  "kernelspec": {
   "display_name": "Python 2",
   "language": "python",
   "name": "python2"
  },
  "language_info": {
   "codemirror_mode": {
    "name": "ipython",
    "version": 2
   },
   "file_extension": ".py",
   "mimetype": "text/x-python",
   "name": "python",
   "nbconvert_exporter": "python",
   "pygments_lexer": "ipython2",
   "version": "2.7.13"
  }
 },
 "nbformat": 4,
 "nbformat_minor": 2
}
