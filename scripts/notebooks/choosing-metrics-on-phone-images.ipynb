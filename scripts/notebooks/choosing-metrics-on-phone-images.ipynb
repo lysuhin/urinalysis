{
 "cells": [
  {
   "cell_type": "code",
   "execution_count": 40,
   "metadata": {
    "ExecuteTime": {
     "end_time": "2017-10-26T14:24:15.931942Z",
     "start_time": "2017-10-26T14:24:15.899188Z"
    }
   },
   "outputs": [
    {
     "name": "stdout",
     "output_type": "stream",
     "text": [
      "The autoreload extension is already loaded. To reload it, use:\n",
      "  %reload_ext autoreload\n"
     ]
    }
   ],
   "source": [
    "import re\n",
    "import os\n",
    "import cv2\n",
    "from tqdm import tqdm\n",
    "from glob import glob\n",
    "import numpy as np\n",
    "import matplotlib.pyplot as plt\n",
    "%matplotlib inline\n",
    "%load_ext autoreload\n",
    "%autoreload 2"
   ]
  },
  {
   "cell_type": "code",
   "execution_count": 41,
   "metadata": {
    "ExecuteTime": {
     "end_time": "2017-10-26T14:24:16.353066Z",
     "start_time": "2017-10-26T14:24:16.328784Z"
    }
   },
   "outputs": [
    {
     "name": "stdout",
     "output_type": "stream",
     "text": [
      "['coords_strip_mm', 'h_strip_mm', 'w_strip_mm'] ['w_template_mm', 'scale', 'coords_roi_mm', 'h_template_mm', 'h_roi_mm', 'w_roi_mm']\n"
     ]
    }
   ],
   "source": [
    "import pickle as pkl\n",
    "with open(\"geometry_dirui_strip.pkl\", 'rb') as f:\n",
    "    geometry_strip = pkl.load(f)\n",
    "with open(\"geometry_dirui_template_wide.pkl\", 'rb') as f:\n",
    "    geometry_template = pkl.load(f)\n",
    "print geometry_strip.keys(), geometry_template.keys()"
   ]
  },
  {
   "cell_type": "code",
   "execution_count": 42,
   "metadata": {
    "ExecuteTime": {
     "end_time": "2017-10-26T14:24:16.742618Z",
     "start_time": "2017-10-26T14:24:16.713052Z"
    }
   },
   "outputs": [],
   "source": [
    "geometry_args = geometry_strip.copy()\n",
    "geometry_args.update(geometry_template)\n",
    "from processor_java import Processor\n",
    "processor = Processor(**geometry_args)"
   ]
  },
  {
   "cell_type": "code",
   "execution_count": 43,
   "metadata": {
    "ExecuteTime": {
     "end_time": "2017-10-26T14:24:17.561611Z",
     "start_time": "2017-10-26T14:24:17.533973Z"
    },
    "collapsed": true
   },
   "outputs": [],
   "source": [
    "def resize_to_720(image):\n",
    "    scale = 720. / image.shape[1]\n",
    "    return cv2.resize(image, (720, int(image.shape[0] * scale)))"
   ]
  },
  {
   "cell_type": "code",
   "execution_count": 45,
   "metadata": {
    "ExecuteTime": {
     "end_time": "2017-10-26T14:24:26.420467Z",
     "start_time": "2017-10-26T14:24:26.401035Z"
    }
   },
   "outputs": [],
   "source": [
    "path_in = \"../../images/Photos_24_10_17/\"\n",
    "image_names = glob(path_in + \"*/*.jpg\")\n",
    "path_out = \"../../images/crops/24_10_17/\""
   ]
  },
  {
   "cell_type": "code",
   "execution_count": 46,
   "metadata": {
    "ExecuteTime": {
     "end_time": "2017-10-26T14:24:27.753538Z",
     "start_time": "2017-10-26T14:24:27.726022Z"
    },
    "collapsed": true
   },
   "outputs": [],
   "source": [
    "def parse_id(name):\n",
    "    return re.findall(\"[0-9]{8}\", name)[0]\n",
    "\n",
    "def parse_phone(name):\n",
    "    tokens = name.split(\"/\")\n",
    "    for phone in [\"LG\", \"Lenovo\", \"Xiaomi\", \"Pop\"]:\n",
    "        if phone in tokens:\n",
    "            return phone\n",
    "    return \"Unknown\""
   ]
  },
  {
   "cell_type": "code",
   "execution_count": 49,
   "metadata": {
    "ExecuteTime": {
     "end_time": "2017-10-26T14:27:53.406104Z",
     "start_time": "2017-10-26T14:27:53.359128Z"
    }
   },
   "outputs": [],
   "source": [
    "def make_crops(image_names, path_out):\n",
    "    \n",
    "    for name in tqdm(image_names):\n",
    "        image = resize_to_720(cv2.imread(name))\n",
    "        id_ = parse_id(name)\n",
    "        phone = parse_phone(name)\n",
    "    \n",
    "        try:\n",
    "            os.makedirs(\"{}{}/{}\".format(path_out, phone, id_))\n",
    "        except:\n",
    "            pass\n",
    "    \n",
    "        try:\n",
    "            processor.fit(image)\n",
    "            for key, crop in processor.colorbar.iteritems():\n",
    "                cv2.imwrite(\"{}{}/{}/{}.png\".format(path_out, phone, id_, key), crop)\n",
    "            for key, crop in processor.palette.iteritems():\n",
    "                cv2.imwrite(\"{}{}/{}/{}.png\".format(path_out, phone, id_, key), crop)\n",
    "        except RuntimeError as RE:\n",
    "            print(\"Something went wrong on {} image:{}\".format(name, RE.message))"
   ]
  },
  {
   "cell_type": "code",
   "execution_count": 50,
   "metadata": {
    "ExecuteTime": {
     "end_time": "2017-10-26T14:28:35.511918Z",
     "start_time": "2017-10-26T14:28:15.342006Z"
    }
   },
   "outputs": [
    {
     "name": "stderr",
     "output_type": "stream",
     "text": [
      "100%|██████████| 92/92 [00:20<00:00,  5.92it/s]\n"
     ]
    }
   ],
   "source": [
    "make_crops(image_names, path_out)"
   ]
  }
 ],
 "metadata": {
  "kernelspec": {
   "display_name": "Python [conda root]",
   "language": "python",
   "name": "conda-root-py"
  },
  "language_info": {
   "codemirror_mode": {
    "name": "ipython",
    "version": 2
   },
   "file_extension": ".py",
   "mimetype": "text/x-python",
   "name": "python",
   "nbconvert_exporter": "python",
   "pygments_lexer": "ipython2",
   "version": "2.7.13"
  }
 },
 "nbformat": 4,
 "nbformat_minor": 2
}
