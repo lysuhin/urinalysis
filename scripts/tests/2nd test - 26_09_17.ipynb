{
 "cells": [
  {
   "cell_type": "code",
   "execution_count": 20,
   "metadata": {
    "collapsed": true
   },
   "outputs": [],
   "source": [
    "%matplotlib inline"
   ]
  },
  {
   "cell_type": "code",
   "execution_count": 21,
   "metadata": {
    "collapsed": true
   },
   "outputs": [],
   "source": [
    "import numpy as np\n",
    "import pandas as pd\n",
    "import matplotlib.pyplot as plt"
   ]
  },
  {
   "cell_type": "code",
   "execution_count": 22,
   "metadata": {
    "collapsed": false
   },
   "outputs": [],
   "source": [
    "data = pd.read_csv('data/second_exp_26_09_17/full_data.csv')"
   ]
  },
  {
   "cell_type": "code",
   "execution_count": 24,
   "metadata": {
    "collapsed": false
   },
   "outputs": [],
   "source": [
    "eye_t = data[data.device=='eye+template']\n",
    "eye_d = data[data.device=='eye+dirui']\n",
    "real = data[data.device=='sysmex']"
   ]
  },
  {
   "cell_type": "code",
   "execution_count": null,
   "metadata": {
    "collapsed": true
   },
   "outputs": [],
   "source": []
  },
  {
   "cell_type": "code",
   "execution_count": 25,
   "metadata": {
    "collapsed": false
   },
   "outputs": [],
   "source": [
    "indicators = real.columns[1:11]"
   ]
  },
  {
   "cell_type": "markdown",
   "metadata": {},
   "source": [
    "# 1. Совпадение между показаниями глаза на различных шкалах"
   ]
  },
  {
   "cell_type": "markdown",
   "metadata": {},
   "source": [
    "### hard-точность для различных индикаторов "
   ]
  },
  {
   "cell_type": "code",
   "execution_count": 26,
   "metadata": {
    "collapsed": false,
    "scrolled": true
   },
   "outputs": [
    {
     "name": "stdout",
     "output_type": "stream",
     "text": [
      "['URO' 'BIL' 'KET' 'BLO' 'PRO' 'NIT' 'LEU' 'GLU' 'SG' 'PH']\n",
      "[ 0.8  0.9  1.   1.   0.5  1.   0.9  0.9  0.6  0.6]\n"
     ]
    }
   ],
   "source": [
    "print indicators.values\n",
    "print np.mean(eye_t[indicators].values == eye_d[indicators].values,axis=0)"
   ]
  },
  {
   "cell_type": "code",
   "execution_count": 27,
   "metadata": {
    "collapsed": false
   },
   "outputs": [
    {
     "name": "stdout",
     "output_type": "stream",
     "text": [
      "Усредненная hard-точность\n",
      "0.82\n"
     ]
    }
   ],
   "source": [
    "print \"Усредненная hard-точность\"\n",
    "print np.mean(eye_t[indicators].values == eye_d[indicators].values)"
   ]
  },
  {
   "cell_type": "markdown",
   "metadata": {},
   "source": [
    "### soft-точность"
   ]
  },
  {
   "cell_type": "code",
   "execution_count": 28,
   "metadata": {
    "collapsed": false
   },
   "outputs": [
    {
     "name": "stdout",
     "output_type": "stream",
     "text": [
      "soft-точность для различных индикаторов\n",
      "['URO' 'BIL' 'KET' 'BLO' 'PRO' 'NIT' 'LEU' 'GLU' 'SG' 'PH']\n",
      "[ 1.   1.   1.   1.   0.9  1.   1.   1.   1.   0.9]\n"
     ]
    }
   ],
   "source": [
    "print \"soft-точность для различных индикаторов\"\n",
    "print indicators.values\n",
    "print np.mean(np.abs(eye_t[indicators].values - eye_d[indicators].values)<=1,axis=0)"
   ]
  },
  {
   "cell_type": "code",
   "execution_count": 29,
   "metadata": {
    "collapsed": false
   },
   "outputs": [
    {
     "name": "stdout",
     "output_type": "stream",
     "text": [
      "усредненная soft-точность\n",
      "0.98\n"
     ]
    }
   ],
   "source": [
    "print \"усредненная soft-точность\"\n",
    "print np.mean(np.abs(eye_t[indicators].values - eye_d[indicators].values)<=1)"
   ]
  },
  {
   "cell_type": "markdown",
   "metadata": {},
   "source": [
    "# Совпадение между глазом и эталонными показаниями"
   ]
  },
  {
   "cell_type": "markdown",
   "metadata": {},
   "source": [
    "## Eye+template vs Sysmex"
   ]
  },
  {
   "cell_type": "code",
   "execution_count": 58,
   "metadata": {
    "collapsed": false
   },
   "outputs": [],
   "source": [
    "ref = real.iloc[:-1]"
   ]
  },
  {
   "cell_type": "code",
   "execution_count": 59,
   "metadata": {
    "collapsed": false
   },
   "outputs": [
    {
     "name": "stdout",
     "output_type": "stream",
     "text": [
      "['URO' 'BIL' 'KET' 'BLO' 'PRO' 'NIT' 'LEU' 'GLU' 'SG' 'PH']\n",
      "[ 0.6  0.   0.7  0.4  0.6  1.   0.6  1.   0.3  0.2]\n"
     ]
    }
   ],
   "source": [
    "print indicators.values\n",
    "print np.mean(eye_t[indicators].values == ref[indicators].values,axis=0)"
   ]
  },
  {
   "cell_type": "code",
   "execution_count": 60,
   "metadata": {
    "collapsed": false
   },
   "outputs": [
    {
     "name": "stdout",
     "output_type": "stream",
     "text": [
      "Усредненная hard-точность\n",
      "0.54\n"
     ]
    }
   ],
   "source": [
    "print \"Усредненная hard-точность\"\n",
    "print np.mean(eye_t[indicators].values == ref[indicators].values)"
   ]
  },
  {
   "cell_type": "code",
   "execution_count": 61,
   "metadata": {
    "collapsed": false
   },
   "outputs": [
    {
     "name": "stdout",
     "output_type": "stream",
     "text": [
      "soft-точность для различных индикаторов\n",
      "['URO' 'BIL' 'KET' 'BLO' 'PRO' 'NIT' 'LEU' 'GLU' 'SG' 'PH']\n",
      "[ 0.9  0.9  1.   0.6  0.9  1.   0.7  1.   0.8  0.7]\n"
     ]
    }
   ],
   "source": [
    "print \"soft-точность для различных индикаторов\"\n",
    "print indicators.values\n",
    "print np.mean(np.abs(eye_t[indicators].values - ref[indicators].values)<=1,axis=0)"
   ]
  },
  {
   "cell_type": "code",
   "execution_count": 62,
   "metadata": {
    "collapsed": false
   },
   "outputs": [
    {
     "name": "stdout",
     "output_type": "stream",
     "text": [
      "усредненная soft-точность\n",
      "0.85\n"
     ]
    }
   ],
   "source": [
    "print \"усредненная soft-точность\"\n",
    "print np.mean(np.abs(eye_t[indicators].values - ref[indicators].values)<=1)"
   ]
  },
  {
   "cell_type": "markdown",
   "metadata": {},
   "source": [
    "## Eye+dirui palette vs Sysmex"
   ]
  },
  {
   "cell_type": "code",
   "execution_count": 63,
   "metadata": {
    "collapsed": false
   },
   "outputs": [
    {
     "name": "stdout",
     "output_type": "stream",
     "text": [
      "hard-точность для различных индикаторов\n",
      "['URO' 'BIL' 'KET' 'BLO' 'PRO' 'NIT' 'LEU' 'GLU' 'SG' 'PH']\n",
      "[ 0.7  0.1  0.7  0.4  0.7  1.   0.6  0.9  0.   0.4]\n"
     ]
    }
   ],
   "source": [
    "print \"hard-точность для различных индикаторов\"\n",
    "print indicators.values\n",
    "print np.mean(eye_d[indicators].values == ref[indicators].values,axis=0)"
   ]
  },
  {
   "cell_type": "code",
   "execution_count": 67,
   "metadata": {
    "collapsed": true
   },
   "outputs": [],
   "source": [
    "def hard_accuracy(x,y,indicators=indicators):\n",
    "    try:\n",
    "        print indicators.values\n",
    "        accs = np.mean(x[indicators].values==y[indicators].values,axis=0)\n",
    "        print accs.round(2)\n",
    "        return accs\n",
    "    except:\n",
    "        print \"Something bad happened\"\n",
    "        \n",
    "def soft_accuracy(x,y,indicators=indicators):\n",
    "    try:\n",
    "        print indicators.values\n",
    "        accs = np.mean(np.abs(x[indicators].values-y[indicators].values)<=1,axis=0)\n",
    "        print accs.round(2)\n",
    "        return accs\n",
    "    except:\n",
    "        print \"Something bad happened\""
   ]
  },
  {
   "cell_type": "code",
   "execution_count": 66,
   "metadata": {
    "collapsed": false
   },
   "outputs": [
    {
     "name": "stdout",
     "output_type": "stream",
     "text": [
      "Усредненная hard-точность\n",
      "0.55\n"
     ]
    }
   ],
   "source": [
    "print \"Усредненная hard-точность\"\n",
    "print np.mean(eye_d[indicators].values == ref[indicators].values)"
   ]
  },
  {
   "cell_type": "code",
   "execution_count": 39,
   "metadata": {
    "collapsed": false
   },
   "outputs": [
    {
     "name": "stdout",
     "output_type": "stream",
     "text": [
      "soft-точность для различных индикаторов\n",
      "['URO' 'BIL' 'KET' 'BLO' 'PRO' 'NIT' 'LEU' 'GLU' 'SG' 'PH']\n",
      "[ 1.   0.9  1.   0.6  0.8  1.   0.7  1.   0.7  0.8]\n"
     ]
    }
   ],
   "source": [
    "print \"soft-точность для различных индикаторов\"\n",
    "print indicators.values\n",
    "print np.mean(np.abs(eye_d[indicators].values - ref[indicators].values)<=1,axis=0)"
   ]
  },
  {
   "cell_type": "code",
   "execution_count": 40,
   "metadata": {
    "collapsed": false
   },
   "outputs": [
    {
     "name": "stdout",
     "output_type": "stream",
     "text": [
      "усредненная soft-точность\n",
      "0.85\n"
     ]
    }
   ],
   "source": [
    "print \"усредненная soft-точность\"\n",
    "print np.mean(np.abs(eye_d[indicators].values - ref[indicators].values)<=1)"
   ]
  },
  {
   "cell_type": "markdown",
   "metadata": {},
   "source": [
    "# Анализируем показания прибора и алгоритма"
   ]
  },
  {
   "cell_type": "code",
   "execution_count": 41,
   "metadata": {
    "collapsed": false
   },
   "outputs": [],
   "source": [
    "phone_m15 = data[(data.template == 'template-15')&(data.light=='light')]"
   ]
  },
  {
   "cell_type": "code",
   "execution_count": 42,
   "metadata": {
    "collapsed": false
   },
   "outputs": [],
   "source": [
    "real = data[data.device == 'sysmex']"
   ]
  },
  {
   "cell_type": "code",
   "execution_count": 43,
   "metadata": {
    "collapsed": true
   },
   "outputs": [],
   "source": [
    "from itertools import combinations"
   ]
  },
  {
   "cell_type": "code",
   "execution_count": 44,
   "metadata": {
    "collapsed": false
   },
   "outputs": [],
   "source": [
    "templates = ['template', 'template-15', 'template+15']\n",
    "lights = ['no_light','light']"
   ]
  },
  {
   "cell_type": "code",
   "execution_count": 45,
   "metadata": {
    "collapsed": false
   },
   "outputs": [
    {
     "name": "stdout",
     "output_type": "stream",
     "text": [
      "template no_light\n",
      "size of  7\n",
      "Hard ['URO' 'BIL' 'KET' 'BLO' 'PRO' 'NIT' 'LEU' 'GLU' 'SG' 'PH']\n",
      "[ 0.86  1.    1.    0.43  0.43  0.57  0.43  0.71  0.29  0.14]\n",
      "0.585714285714\n",
      "Soft ['URO' 'BIL' 'KET' 'BLO' 'PRO' 'NIT' 'LEU' 'GLU' 'SG' 'PH']\n",
      "[ 0.86  1.    1.    0.57  1.    0.71  0.71  0.71  1.    0.29]\n",
      "0.785714285714\n",
      "++++++++++++++++\n",
      "\n",
      "template light\n",
      "size of  8\n",
      "Hard ['URO' 'BIL' 'KET' 'BLO' 'PRO' 'NIT' 'LEU' 'GLU' 'SG' 'PH']\n",
      "[ 0.75  0.88  0.88  0.12  0.5   0.75  0.5   0.75  0.25  0.12]\n",
      "0.55\n",
      "Soft ['URO' 'BIL' 'KET' 'BLO' 'PRO' 'NIT' 'LEU' 'GLU' 'SG' 'PH']\n",
      "[ 0.75  1.    1.    0.38  1.    0.75  0.75  0.75  0.88  0.62]\n",
      "0.7875\n",
      "++++++++++++++++\n",
      "\n",
      "template-15 no_light\n",
      "size of  8\n",
      "Hard ['URO' 'BIL' 'KET' 'BLO' 'PRO' 'NIT' 'LEU' 'GLU' 'SG' 'PH']\n",
      "[ 0.75  0.75  0.75  0.25  0.25  0.75  0.5   0.5   0.38  0.  ]\n",
      "0.4875\n",
      "Soft ['URO' 'BIL' 'KET' 'BLO' 'PRO' 'NIT' 'LEU' 'GLU' 'SG' 'PH']\n",
      "[ 0.75  0.75  0.75  0.25  0.88  0.75  0.62  0.5   0.62  0.62]\n",
      "0.65\n",
      "++++++++++++++++\n",
      "\n",
      "template-15 light\n",
      "size of  10\n",
      "Hard ['URO' 'BIL' 'KET' 'BLO' 'PRO' 'NIT' 'LEU' 'GLU' 'SG' 'PH']\n",
      "[ 0.6  0.8  0.8  0.1  0.3  0.7  0.5  0.6  0.2  0.1]\n",
      "0.47\n",
      "Soft ['URO' 'BIL' 'KET' 'BLO' 'PRO' 'NIT' 'LEU' 'GLU' 'SG' 'PH']\n",
      "[ 0.7  0.8  0.8  0.3  0.7  0.8  0.7  0.6  0.8  0.3]\n",
      "0.65\n",
      "++++++++++++++++\n",
      "\n",
      "template+15 no_light\n",
      "size of  6\n",
      "Hard ['URO' 'BIL' 'KET' 'BLO' 'PRO' 'NIT' 'LEU' 'GLU' 'SG' 'PH']\n",
      "[ 0.67  0.5   0.33  0.33  0.33  0.33  0.17  0.5   0.33  0.33]\n",
      "0.383333333333\n",
      "Soft ['URO' 'BIL' 'KET' 'BLO' 'PRO' 'NIT' 'LEU' 'GLU' 'SG' 'PH']\n",
      "[ 0.67  0.67  1.    0.5   0.83  0.67  0.83  0.83  0.83  0.67]\n",
      "0.75\n",
      "++++++++++++++++\n",
      "\n",
      "template+15 light\n",
      "size of  3\n",
      "Hard ['URO' 'BIL' 'KET' 'BLO' 'PRO' 'NIT' 'LEU' 'GLU' 'SG' 'PH']\n",
      "[ 0.67  0.    0.    0.33  0.    0.33  0.33  0.33  0.33  0.  ]\n",
      "0.233333333333\n",
      "Soft ['URO' 'BIL' 'KET' 'BLO' 'PRO' 'NIT' 'LEU' 'GLU' 'SG' 'PH']\n",
      "[ 0.67  0.67  0.67  1.    0.33  0.67  1.    0.33  1.    0.33]\n",
      "0.666666666667\n",
      "++++++++++++++++\n",
      "\n"
     ]
    }
   ],
   "source": [
    "for t in templates:\n",
    "    for l in lights:\n",
    "        p = data[(data.template == t)&(data.light==l)&(data.ID!='empty')]\n",
    "        \n",
    "        print t,l\n",
    "        print \"size of \",len(p)\n",
    "        print 'Hard',np.mean(hard_accuracy(real.loc[real.ID.isin(p.ID.values)],p))\n",
    "        print 'Soft',np.mean(soft_accuracy(real.loc[real.ID.isin(p.ID.values)],p))\n",
    "        print '++++++++++++++++\\n'"
   ]
  },
  {
   "cell_type": "code",
   "execution_count": 46,
   "metadata": {
    "collapsed": true
   },
   "outputs": [],
   "source": [
    "eye_d = data[data.device == 'eye+dirui']"
   ]
  },
  {
   "cell_type": "code",
   "execution_count": 47,
   "metadata": {
    "collapsed": false
   },
   "outputs": [
    {
     "name": "stdout",
     "output_type": "stream",
     "text": [
      "['URO' 'BIL' 'KET' 'BLO' 'PRO' 'NIT' 'LEU' 'GLU' 'SG' 'PH']\n",
      "[ 0.64  0.82  0.91  0.09  0.18  0.64  0.73  0.82  0.18  0.36]\n"
     ]
    },
    {
     "data": {
      "text/plain": [
       "array([ 0.63636364,  0.81818182,  0.90909091,  0.09090909,  0.18181818,\n",
       "        0.63636364,  0.72727273,  0.81818182,  0.18181818,  0.36363636])"
      ]
     },
     "execution_count": 47,
     "metadata": {},
     "output_type": "execute_result"
    }
   ],
   "source": [
    "hard_accuracy(real,phone_m15)"
   ]
  },
  {
   "cell_type": "code",
   "execution_count": 49,
   "metadata": {
    "collapsed": false
   },
   "outputs": [
    {
     "name": "stdout",
     "output_type": "stream",
     "text": [
      "Soft acc\n",
      "['URO' 'BIL' 'KET' 'BLO' 'PRO' 'NIT' 'LEU' 'GLU' 'SG' 'PH']\n",
      "[ 0.73  0.82  1.    0.27  0.82  0.73  0.73  0.82  0.55  0.45]\n"
     ]
    },
    {
     "data": {
      "text/plain": [
       "0.69090909090909092"
      ]
     },
     "execution_count": 49,
     "metadata": {},
     "output_type": "execute_result"
    }
   ],
   "source": [
    "print 'Soft acc'\n",
    "np.mean(soft_accuracy(real,phone_m15))"
   ]
  },
  {
   "cell_type": "code",
   "execution_count": 50,
   "metadata": {
    "collapsed": true
   },
   "outputs": [],
   "source": [
    "phone = data[(data.template == 'template')&(data.light=='light')]"
   ]
  },
  {
   "cell_type": "code",
   "execution_count": 51,
   "metadata": {
    "collapsed": false
   },
   "outputs": [
    {
     "name": "stdout",
     "output_type": "stream",
     "text": [
      "['URO' 'BIL' 'KET' 'BLO' 'PRO' 'NIT' 'LEU' 'GLU' 'SG' 'PH']\n",
      "[ 0.75  1.    1.    0.38  1.    0.75  0.75  0.75  0.88  0.62]\n"
     ]
    },
    {
     "data": {
      "text/plain": [
       "0.78749999999999998"
      ]
     },
     "execution_count": 51,
     "metadata": {},
     "output_type": "execute_result"
    }
   ],
   "source": [
    "np.mean(soft_accuracy(real.loc[real.ID.isin(phone.ID.values)],phone))"
   ]
  },
  {
   "cell_type": "code",
   "execution_count": 52,
   "metadata": {
    "collapsed": false
   },
   "outputs": [
    {
     "name": "stdout",
     "output_type": "stream",
     "text": [
      "['URO' 'BIL' 'KET' 'BLO' 'PRO' 'NIT' 'LEU' 'GLU' 'SG' 'PH']\n",
      "[ 0.75  0.88  0.88  0.12  0.5   0.75  0.5   0.75  0.25  0.12]\n"
     ]
    },
    {
     "data": {
      "text/plain": [
       "array([ 0.75 ,  0.875,  0.875,  0.125,  0.5  ,  0.75 ,  0.5  ,  0.75 ,\n",
       "        0.25 ,  0.125])"
      ]
     },
     "execution_count": 52,
     "metadata": {},
     "output_type": "execute_result"
    }
   ],
   "source": [
    "hard_accuracy(real.loc[real.ID.isin(phone.ID.values)],phone)"
   ]
  },
  {
   "cell_type": "code",
   "execution_count": 53,
   "metadata": {
    "collapsed": false
   },
   "outputs": [
    {
     "name": "stdout",
     "output_type": "stream",
     "text": [
      "['URO' 'BIL' 'KET' 'BLO' 'PRO' 'NIT' 'LEU' 'GLU' 'SG' 'PH']\n",
      "[ 0.9  0.9  0.8  0.1  0.6  0.8  0.9  0.6  0.5  0.5]\n"
     ]
    },
    {
     "data": {
      "text/plain": [
       "0.65999999999999992"
      ]
     },
     "execution_count": 53,
     "metadata": {},
     "output_type": "execute_result"
    }
   ],
   "source": [
    "np.mean(soft_accuracy(eye_d,phone_m15.loc[phone_m15.ID.isin(eye_d.ID.values)]))"
   ]
  },
  {
   "cell_type": "code",
   "execution_count": 54,
   "metadata": {
    "collapsed": false
   },
   "outputs": [
    {
     "name": "stdout",
     "output_type": "stream",
     "text": [
      "['URO' 'BIL' 'KET' 'BLO' 'PRO' 'NIT' 'LEU' 'GLU' 'SG' 'PH']\n",
      "[ 0.6  0.1  0.6  0.   0.3  0.7  0.8  0.6  0.4  0.1]\n"
     ]
    },
    {
     "data": {
      "text/plain": [
       "array([ 0.6,  0.1,  0.6,  0. ,  0.3,  0.7,  0.8,  0.6,  0.4,  0.1])"
      ]
     },
     "execution_count": 54,
     "metadata": {},
     "output_type": "execute_result"
    }
   ],
   "source": [
    "hard_accuracy(eye_d,phone_m15.loc[phone_m15.ID.isin(eye_d.ID.values)])"
   ]
  },
  {
   "cell_type": "code",
   "execution_count": 55,
   "metadata": {
    "collapsed": false
   },
   "outputs": [
    {
     "name": "stdout",
     "output_type": "stream",
     "text": [
      "['URO' 'BIL' 'KET' 'BLO' 'PRO' 'NIT' 'LEU' 'GLU' 'SG' 'PH']\n",
      "[ 0.9  0.9  0.8  0.1  0.6  0.8  0.9  0.6  0.5  0.5]\n"
     ]
    },
    {
     "data": {
      "text/plain": [
       "0.65999999999999992"
      ]
     },
     "execution_count": 55,
     "metadata": {},
     "output_type": "execute_result"
    }
   ],
   "source": [
    "np.mean(soft_accuracy(eye_d,phone_m15.loc[phone_m15.ID.isin(eye_d.ID.values)]))"
   ]
  },
  {
   "cell_type": "code",
   "execution_count": 56,
   "metadata": {
    "collapsed": false
   },
   "outputs": [
    {
     "name": "stdout",
     "output_type": "stream",
     "text": [
      "9\n",
      "8\n",
      "7\n"
     ]
    }
   ],
   "source": [
    "for t in ['template-15','template','template+15']:\n",
    "    print len(data[(data.light=='no_light')&(data.template==t)])"
   ]
  },
  {
   "cell_type": "code",
   "execution_count": 57,
   "metadata": {
    "collapsed": false
   },
   "outputs": [],
   "source": [
    "phone_m15_nolight = data[(data.light=='no_light')&(data.template==t)]"
   ]
  },
  {
   "cell_type": "code",
   "execution_count": 69,
   "metadata": {
    "collapsed": false
   },
   "outputs": [
    {
     "name": "stdout",
     "output_type": "stream",
     "text": [
      "['URO' 'BIL' 'KET' 'BLO' 'PRO' 'NIT' 'LEU' 'GLU' 'SG' 'PH']\n",
      "[ 0.71  1.    1.    0.86  1.    1.    0.86  0.86  0.86  0.71]\n"
     ]
    },
    {
     "data": {
      "text/plain": [
       "0.88571428571428579"
      ]
     },
     "execution_count": 69,
     "metadata": {},
     "output_type": "execute_result"
    }
   ],
   "source": [
    "np.mean(soft_accuracy(phone_m15_nolight,real.loc[real.ID.isin(phone_m15_nolight.ID.values)]))"
   ]
  },
  {
   "cell_type": "code",
   "execution_count": 73,
   "metadata": {
    "collapsed": false
   },
   "outputs": [],
   "source": [
    "phone_nolight = data[(data.light=='no_light')&(data.template=='template')].iloc[:-1]"
   ]
  },
  {
   "cell_type": "code",
   "execution_count": 77,
   "metadata": {
    "collapsed": false
   },
   "outputs": [
    {
     "name": "stdout",
     "output_type": "stream",
     "text": [
      "['URO' 'BIL' 'KET' 'BLO' 'PRO' 'NIT' 'LEU' 'GLU' 'SG' 'PH']\n",
      "[ 0.86  1.    1.    0.86  1.    1.    0.71  1.    0.86  0.86]\n"
     ]
    },
    {
     "data": {
      "text/plain": [
       "0.91428571428571437"
      ]
     },
     "execution_count": 77,
     "metadata": {},
     "output_type": "execute_result"
    }
   ],
   "source": [
    "np.mean(soft_accuracy(phone_nolight,real.loc[real.ID.isin(phone_nolight.ID.values)]))"
   ]
  },
  {
   "cell_type": "code",
   "execution_count": null,
   "metadata": {
    "collapsed": true
   },
   "outputs": [],
   "source": []
  }
 ],
 "metadata": {
  "kernelspec": {
   "display_name": "Python 2",
   "language": "python",
   "name": "python2"
  },
  "language_info": {
   "codemirror_mode": {
    "name": "ipython",
    "version": 2
   },
   "file_extension": ".py",
   "mimetype": "text/x-python",
   "name": "python",
   "nbconvert_exporter": "python",
   "pygments_lexer": "ipython2",
   "version": "2.7.13"
  }
 },
 "nbformat": 4,
 "nbformat_minor": 2
}
