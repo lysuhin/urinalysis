{
 "cells": [
  {
   "cell_type": "code",
   "execution_count": 1,
   "metadata": {
    "ExecuteTime": {
     "end_time": "2017-09-18T11:30:13.054522Z",
     "start_time": "2017-09-18T11:30:09.634327Z"
    },
    "collapsed": true
   },
   "outputs": [],
   "source": [
    "import cv2\n",
    "import numpy as np\n",
    "import matplotlib.pyplot as plt\n",
    "%matplotlib inline\n",
    "\n",
    "plt.rcParams['figure.figsize'] = 15, 5"
   ]
  },
  {
   "cell_type": "code",
   "execution_count": 28,
   "metadata": {
    "ExecuteTime": {
     "end_time": "2017-09-18T12:45:22.545250Z",
     "start_time": "2017-09-18T12:45:22.103622Z"
    }
   },
   "outputs": [
    {
     "data": {
      "text/plain": [
       "<matplotlib.image.AxesImage at 0x7f9e1a244490>"
      ]
     },
     "execution_count": 28,
     "metadata": {},
     "output_type": "execute_result"
    },
    {
     "data": {
      "image/png": "[encoded data removed]",
      "text/plain": [
       "<matplotlib.figure.Figure at 0x7f9e1a996a50>"
      ]
     },
     "metadata": {},
     "output_type": "display_data"
    }
   ],
   "source": [
    "template = cv2.imread(\"../../images/stripe experiments/compact/template_mirror_no_stroke_border.png\")\n",
    "template = cv2.cvtColor(template, cv2.COLOR_BGR2RGB)\n",
    "plt.imshow(template, cmap='gray')"
   ]
  },
  {
   "cell_type": "code",
   "execution_count": 29,
   "metadata": {
    "ExecuteTime": {
     "end_time": "2017-09-18T12:47:12.299023Z",
     "start_time": "2017-09-18T12:47:12.283238Z"
    }
   },
   "outputs": [
    {
     "data": {
      "text/plain": [
       "[171, 190, 209, 228, 247, 266, 285, 304, 323, 342]"
      ]
     },
     "execution_count": 29,
     "metadata": {},
     "output_type": "execute_result"
    }
   ],
   "source": [
    "# xs = [21 + 19 * j for j in xrange(10)]\n",
    "xs = [163 + 8 + 19 * j for j in xrange(10)]\n",
    "xs"
   ]
  },
  {
   "cell_type": "code",
   "execution_count": 30,
   "metadata": {
    "ExecuteTime": {
     "end_time": "2017-09-18T12:47:26.032524Z",
     "start_time": "2017-09-18T12:47:25.991403Z"
    },
    "collapsed": true
   },
   "outputs": [],
   "source": [
    "leu_pts = [(xs[0], 49 + 8 + 14 * i) for i in range(5)]\n",
    "nit_pts = [(xs[1], 49 + 8 + 14 * i) for i in range(3)]\n",
    "uro_pts = [(xs[2], 49 + 8 + 14 * i) for i in range(5)]\n",
    "pro_pts = [(xs[3], 49 + 8 + 14 * i) for i in range(6)]\n",
    "ph_pts = [(xs[4], 49 + 8 + 14 * i) for i in range(7)]\n",
    "blo_pts = [(xs[5], 49 + 8 + 14 * i) for i in range(7)]\n",
    "sg_pts = [(xs[6], 49 + 8 + 14 * i) for i in range(7)]\n",
    "ket_pts = [(xs[7], 49 + 8 + 14 * i) for i in range(6)]\n",
    "bil_pts = [(xs[8], 49 + 8 + 14 * i) for i in range(4)]\n",
    "glu_pts = [(xs[9], 49 + 8 + 14 * i) for i in range(6)]\n",
    "pts = {'LEU' : leu_pts, \n",
    "       'NIT' : nit_pts, \n",
    "       'URO' : uro_pts, \n",
    "       'PRO' : pro_pts, \n",
    "       'pH' : ph_pts, \n",
    "       'BLO' : blo_pts, \n",
    "       'SG' : sg_pts, \n",
    "       'KET' : ket_pts, \n",
    "       'BIL' : bil_pts, \n",
    "       'GLU' : glu_pts}"
   ]
  },
  {
   "cell_type": "raw",
   "metadata": {
    "ExecuteTime": {
     "end_time": "2017-09-03T11:50:58.279501Z",
     "start_time": "2017-09-03T11:50:57.876169Z"
    }
   },
   "source": [
    "for name, col in pts.items():\n",
    "    for pt in col:\n",
    "        cv2.floodFill(template, None, pt, (0,0,0)) \n",
    "#         cv2.circle(template, pt, 2, (0, 0, 0), -1)\n",
    "\n",
    "plt.imshow(template, cmap='gray')"
   ]
  },
  {
   "cell_type": "code",
   "execution_count": 49,
   "metadata": {
    "ExecuteTime": {
     "end_time": "2017-09-18T12:50:55.937120Z",
     "start_time": "2017-09-18T12:50:55.911995Z"
    }
   },
   "outputs": [
    {
     "name": "stdout",
     "output_type": "stream",
     "text": [
      "BLO\n",
      "KET\n",
      "GLU\n",
      "LEU\n",
      "PRO\n",
      "URO\n",
      "SG\n",
      "pH\n",
      "NIT\n",
      "BIL\n"
     ]
    }
   ],
   "source": [
    "# from stripes import palette\n",
    "for name, col in pts.items():\n",
    "    print name\n",
    "#     assert len(col) == len(palette.points_dict[name]), \"{} != {}\".format(len(col), len(palette.points_dict[name]))\n",
    "    for j in xrange(len(col)):\n",
    "#         color = palette.points_dict[name][::-1][j]\n",
    "        color = (255, 0, 255)\n",
    "        cv2.floodFill(template, None, col[j], color)\n",
    "        cv2.floodFill(template, None, (col[j][0] - 7, col[j][1]), color) #border        "
   ]
  },
  {
   "cell_type": "code",
   "execution_count": 50,
   "metadata": {
    "ExecuteTime": {
     "end_time": "2017-09-18T12:50:57.018110Z",
     "start_time": "2017-09-18T12:50:56.631684Z"
    }
   },
   "outputs": [
    {
     "data": {
      "text/plain": [
       "<matplotlib.image.AxesImage at 0x7f9e19d10490>"
      ]
     },
     "execution_count": 50,
     "metadata": {},
     "output_type": "execute_result"
    },
    {
     "data": {
      "image/png": "[encoded data removed]",
      "text/plain": [
       "<matplotlib.figure.Figure at 0x7f9e19d79650>"
      ]
     },
     "metadata": {},
     "output_type": "display_data"
    }
   ],
   "source": [
    "plt.imshow(template)"
   ]
  },
  {
   "cell_type": "code",
   "execution_count": 51,
   "metadata": {
    "ExecuteTime": {
     "end_time": "2017-09-18T12:51:01.165753Z",
     "start_time": "2017-09-18T12:51:01.139825Z"
    }
   },
   "outputs": [
    {
     "data": {
      "text/plain": [
       "True"
      ]
     },
     "execution_count": 51,
     "metadata": {},
     "output_type": "execute_result"
    }
   ],
   "source": [
    "cv2.imwrite(\"template_magenta.png\", cv2.cvtColor(template, cv2.COLOR_RGB2BGR))"
   ]
  },
  {
   "cell_type": "code",
   "execution_count": null,
   "metadata": {
    "collapsed": true
   },
   "outputs": [],
   "source": []
  }
 ],
 "metadata": {
  "kernelspec": {
   "display_name": "Python [conda root]",
   "language": "python",
   "name": "conda-root-py"
  },
  "language_info": {
   "codemirror_mode": {
    "name": "ipython",
    "version": 2
   },
   "file_extension": ".py",
   "mimetype": "text/x-python",
   "name": "python",
   "nbconvert_exporter": "python",
   "pygments_lexer": "ipython2",
   "version": "2.7.13"
  }
 },
 "nbformat": 4,
 "nbformat_minor": 2
}
