{
 "cells": [
  {
   "cell_type": "code",
   "execution_count": 1,
   "metadata": {
    "collapsed": true
   },
   "outputs": [],
   "source": [
    "import os\n",
    "import glob\n",
    "import pandas as pd"
   ]
  },
  {
   "cell_type": "markdown",
   "metadata": {},
   "source": [
    "### Инструкция:\n",
    "Запускать скрипт следует только один раз, предварительно проверив правильность отображения старых имен в новые."
   ]
  },
  {
   "cell_type": "code",
   "execution_count": 2,
   "metadata": {
    "collapsed": false
   },
   "outputs": [],
   "source": [
    "df = pd.read_csv('data/third_exp_28_09_17/raw_measure.csv')"
   ]
  },
  {
   "cell_type": "code",
   "execution_count": 4,
   "metadata": {
    "collapsed": false
   },
   "outputs": [],
   "source": [
    "names = df.ID.values"
   ]
  },
  {
   "cell_type": "code",
   "execution_count": 5,
   "metadata": {
    "collapsed": false
   },
   "outputs": [
    {
     "data": {
      "text/plain": [
       "array(['check_1', 'check_2', '10114070', '10116790', '10116301',\n",
       "       '10116296', '10116292', '10115274', '10115273', '10115270',\n",
       "       '30306322', '30306302', '30306307', '30306025', '30306294',\n",
       "       '10115037', '30306276', '10112370', '10112365', '10112364',\n",
       "       '10112371', '10112368', '10112366', '10112367', '10112363'], dtype=object)"
      ]
     },
     "execution_count": 5,
     "metadata": {},
     "output_type": "execute_result"
    }
   ],
   "source": [
    "names"
   ]
  },
  {
   "cell_type": "code",
   "execution_count": 12,
   "metadata": {
    "collapsed": true
   },
   "outputs": [],
   "source": [
    "def get_old_names(directory_path):\n",
    "    return sorted(glob.glob(os.path.join(directory,'*')))"
   ]
  },
  {
   "cell_type": "code",
   "execution_count": 16,
   "metadata": {
    "collapsed": true
   },
   "outputs": [],
   "source": [
    "path = '../../images/photos_28_09/'"
   ]
  },
  {
   "cell_type": "code",
   "execution_count": 11,
   "metadata": {
    "collapsed": false
   },
   "outputs": [
    {
     "name": "stdout",
     "output_type": "stream",
     "text": [
      "['check_1' 'check_2' '10114070' '10116790' '10116301' '10116296' '10116292'\n",
      " '10115274' '10115273' '10115270' '30306322' '30306302' '30306307'\n",
      " '30306025' '30306294' '10115037' '30306276' '10112370' '10112365'\n",
      " '10112364' '10112371' '10112368' '10112366' '10112367' '10112363']\n"
     ]
    }
   ],
   "source": [
    "print names"
   ]
  },
  {
   "cell_type": "code",
   "execution_count": 18,
   "metadata": {
    "collapsed": false
   },
   "outputs": [
    {
     "name": "stdout",
     "output_type": "stream",
     "text": [
      "check_1 IMG_20170928_134312.jpg\n",
      "check_2 IMG_20170928_134717.jpg\n",
      "10114070 IMG_20170928_135121.jpg\n",
      "10116790 IMG_20170928_135434.jpg\n",
      "10116301 IMG_20170928_135752.jpg\n",
      "10116296 IMG_20170928_140255.jpg\n",
      "10116292 IMG_20170928_140549.jpg\n",
      "10115274 IMG_20170928_140905.jpg\n",
      "10115273 IMG_20170928_141140.jpg\n",
      "10115270 IMG_20170928_141353.jpg\n",
      "30306322 IMG_20170928_141611.jpg\n",
      "30306302 IMG_20170928_141828.jpg\n",
      "30306307 IMG_20170928_142040.jpg\n",
      "30306025 IMG_20170928_142453.jpg\n",
      "30306294 IMG_20170928_142821.jpg\n",
      "10115037 IMG_20170928_143037.jpg\n",
      "30306276 IMG_20170928_143251.jpg\n",
      "10112370 IMG_20170928_143608.jpg\n",
      "10112365 IMG_20170928_143816.jpg\n",
      "10112364 IMG_20170928_144023.jpg\n",
      "10112371 IMG_20170928_144221.jpg\n",
      "10112368 IMG_20170928_144422.jpg\n",
      "10112366 IMG_20170928_144657.jpg\n",
      "10112367 IMG_20170928_144914.jpg\n",
      "10112363 IMG_20170928_145106.jpg\n"
     ]
    }
   ],
   "source": [
    "for new_name, old_name in zip(names,get_old_names(os.path.join(path,'light','*'))):\n",
    "    print new_name, os.path.basename(old_name)"
   ]
  },
  {
   "cell_type": "code",
   "execution_count": 29,
   "metadata": {
    "collapsed": false
   },
   "outputs": [],
   "source": [
    "def rename(directory_path):\n",
    "    if not os.path.isdir(directory_path):\n",
    "        raise OSError(\"No such directory\")\n",
    "        return None\n",
    "    for i,old_filepath in enumerate(sorted(glob.glob(os.path.join(directory_path,'*')))):\n",
    "        title,ext = os.path.splitext(os.path.basename(old_filepath))\n",
    "\n",
    "        os.rename(old_filepath,os.path.join(directory_path, names[i] + ext))"
   ]
  },
  {
   "cell_type": "code",
   "execution_count": 30,
   "metadata": {
    "collapsed": true
   },
   "outputs": [],
   "source": [
    "directories = ['no_light',\n",
    "                'light']"
   ]
  },
  {
   "cell_type": "code",
   "execution_count": 31,
   "metadata": {
    "collapsed": false
   },
   "outputs": [
    {
     "data": {
      "text/plain": [
       "True"
      ]
     },
     "execution_count": 31,
     "metadata": {},
     "output_type": "execute_result"
    }
   ],
   "source": [
    "os.path.isdir(os.path.join(path,directories[1]))"
   ]
  },
  {
   "cell_type": "code",
   "execution_count": 32,
   "metadata": {
    "collapsed": false
   },
   "outputs": [],
   "source": [
    "for directory in directories:\n",
    "    rename(os.path.join(path,directory))"
   ]
  },
  {
   "cell_type": "code",
   "execution_count": null,
   "metadata": {
    "collapsed": true
   },
   "outputs": [],
   "source": []
  }
 ],
 "metadata": {
  "kernelspec": {
   "display_name": "Python 2",
   "language": "python",
   "name": "python2"
  },
  "language_info": {
   "codemirror_mode": {
    "name": "ipython",
    "version": 2
   },
   "file_extension": ".py",
   "mimetype": "text/x-python",
   "name": "python",
   "nbconvert_exporter": "python",
   "pygments_lexer": "ipython2",
   "version": "2.7.13"
  }
 },
 "nbformat": 4,
 "nbformat_minor": 2
}
