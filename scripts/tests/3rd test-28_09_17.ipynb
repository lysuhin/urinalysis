{
 "cells": [
  {
   "cell_type": "code",
   "execution_count": 2,
   "metadata": {
    "collapsed": true
   },
   "outputs": [],
   "source": [
    "%matplotlib inline"
   ]
  },
  {
   "cell_type": "code",
   "execution_count": 3,
   "metadata": {
    "collapsed": false
   },
   "outputs": [],
   "source": [
    "import pandas as pd\n",
    "import numpy as np\n",
    "import seaborn as sns\n",
    "\n",
    "from accuracies import hard_accuracy,soft_accuracy"
   ]
  },
  {
   "cell_type": "markdown",
   "metadata": {},
   "source": [
    "### Данные:\n",
    "Здесь используются данные, которые получены в экспериментах 26.09.2017 и 28.09.2017\n",
    "- eye - показания, сделанные с помощью глаза по \"шаблону на банке\"\n",
    "- real - показания, сделанные с помощью прибора Sysmex UX-2000\n",
    "- phone - показания алгоритма с метрикой median + manhattan + Lab + (2,5,3) на шаблоне без измененной яркости с использованием и без использования вспышки"
   ]
  },
  {
   "cell_type": "code",
   "execution_count": 4,
   "metadata": {
    "collapsed": true
   },
   "outputs": [],
   "source": [
    "eye = pd.read_csv('data/third_exp_28_09_17/eye_2and3_joined.csv')\n",
    "real = pd.read_csv('data/third_exp_28_09_17/real_2and3_joined.csv')\n",
    "phone = pd.read_csv('data/third_exp_28_09_17/phone_2and3_joined.csv')"
   ]
  },
  {
   "cell_type": "code",
   "execution_count": 5,
   "metadata": {
    "collapsed": false
   },
   "outputs": [],
   "source": [
    "phone_l = phone[phone.light=='light'].copy()\n",
    "phone_n = phone[phone.light=='no_light'].copy()"
   ]
  },
  {
   "cell_type": "code",
   "execution_count": 6,
   "metadata": {
    "collapsed": false
   },
   "outputs": [],
   "source": [
    "for data in [eye,real,phone_l,phone_n]:\n",
    "    data.sort_values('ID',inplace=True)"
   ]
  },
  {
   "cell_type": "code",
   "execution_count": 7,
   "metadata": {
    "collapsed": false
   },
   "outputs": [],
   "source": [
    "indicators = real.columns[1:]"
   ]
  },
  {
   "cell_type": "code",
   "execution_count": 8,
   "metadata": {
    "collapsed": false,
    "scrolled": true
   },
   "outputs": [
    {
     "name": "stdout",
     "output_type": "stream",
     "text": [
      "Количество пациентов:  33\n"
     ]
    }
   ],
   "source": [
    "print \"Количество пациентов: \",data.shape[0]"
   ]
  },
  {
   "cell_type": "markdown",
   "metadata": {},
   "source": [
    "\n",
    "**soft-точность** - доля совпадений в +/-1 класс между двумя выборками:\n",
    "$$SoftAccuracy(a,b) = \\frac{1}{N} \\sum_{i=1}^{N} [|a_i - b_i|<=1]$$\n",
    "\n",
    "**hard-точность** - доля одинаковых ответов в двух выборках:\n",
    "$$HardAccuracy(a,b) = \\frac{1}{N} \\sum_{i=1}^{N} [a_i == b_i]$$"
   ]
  },
  {
   "cell_type": "markdown",
   "metadata": {},
   "source": [
    "### Сравнение глаза и стационарного прибора"
   ]
  },
  {
   "cell_type": "code",
   "execution_count": 25,
   "metadata": {
    "collapsed": true
   },
   "outputs": [],
   "source": [
    "def comparison(data1,data2):\n",
    "    print \"Точность попадания в тот же самый класс (hard-точность): \"\n",
    "    h = np.mean(hard_accuracy(data1,data2,indicators))\n",
    "    print \"Средняя hard-точность: %.2f\\n\"%h\n",
    "    \n",
    "    print \"Точность попадания в +/- 1 класс (soft-точность):\"\n",
    "    s = np.mean(soft_accuracy(data1,data2,indicators))\n",
    "    print \"Средняя soft-точность: %.2f\"%s"
   ]
  },
  {
   "cell_type": "code",
   "execution_count": 26,
   "metadata": {
    "collapsed": false
   },
   "outputs": [
    {
     "name": "stdout",
     "output_type": "stream",
     "text": [
      "Точность попадания в тот же самый класс (hard-точность): \n",
      "URO    BIL    KET    BLO    PRO    NIT    LEU    GLU    SG    PH   \n",
      "0.91   0.48   0.91   0.79   0.79   1.00   0.73   0.94   0.21   0.52   \n",
      "\n",
      "Средняя hard-точность: 0.73\n",
      "\n",
      "Точность попадания в +/- 1 класс (soft-точность):\n",
      "URO    BIL    KET    BLO    PRO    NIT    LEU    GLU    SG    PH   \n",
      "0.97   1.00   1.00   0.85   0.97   1.00   0.82   1.00   0.76   0.91   \n",
      "\n",
      "Средняя soft-точность: 0.93\n"
     ]
    }
   ],
   "source": [
    "comparison(real,eye)"
   ]
  },
  {
   "cell_type": "markdown",
   "metadata": {},
   "source": [
    "### Сравнение прибора и телефона без вспышки"
   ]
  },
  {
   "cell_type": "code",
   "execution_count": 27,
   "metadata": {
    "collapsed": false
   },
   "outputs": [
    {
     "name": "stdout",
     "output_type": "stream",
     "text": [
      "Точность попадания в тот же самый класс (hard-точность): \n",
      "URO    BIL    KET    BLO    PRO    NIT    LEU    GLU    SG    PH   \n",
      "0.91   1.00   0.91   0.55   0.82   0.88   0.70   0.85   0.30   0.48   \n",
      "\n",
      "Средняя hard-точность: 0.74\n",
      "\n",
      "Точность попадания в +/- 1 класс (soft-точность):\n",
      "URO    BIL    KET    BLO    PRO    NIT    LEU    GLU    SG    PH   \n",
      "0.91   1.00   1.00   0.61   1.00   1.00   0.85   1.00   0.79   0.94   \n",
      "\n",
      "Средняя soft-точность: 0.91\n"
     ]
    }
   ],
   "source": [
    "comparison(real,phone_n)"
   ]
  },
  {
   "cell_type": "markdown",
   "metadata": {},
   "source": [
    "### Сравнение глаза и телефона без вспышки"
   ]
  },
  {
   "cell_type": "code",
   "execution_count": 28,
   "metadata": {
    "collapsed": false
   },
   "outputs": [
    {
     "name": "stdout",
     "output_type": "stream",
     "text": [
      "Точность попадания в тот же самый класс (hard-точность): \n",
      "URO    BIL    KET    BLO    PRO    NIT    LEU    GLU    SG    PH   \n",
      "0.94   0.48   0.88   0.55   0.79   0.88   0.79   0.91   0.42   0.24   \n",
      "\n",
      "Средняя hard-точность: 0.69\n",
      "\n",
      "Точность попадания в +/- 1 класс (soft-точность):\n",
      "URO    BIL    KET    BLO    PRO    NIT    LEU    GLU    SG    PH   \n",
      "1.00   1.00   1.00   0.58   0.97   1.00   1.00   1.00   0.85   0.85   \n",
      "\n",
      "Средняя soft-точность: 0.92\n"
     ]
    }
   ],
   "source": [
    "comparison(eye,phone_n)"
   ]
  },
  {
   "cell_type": "markdown",
   "metadata": {},
   "source": [
    "### Прибор vs телефон со вспышкой "
   ]
  },
  {
   "cell_type": "code",
   "execution_count": 29,
   "metadata": {
    "collapsed": false
   },
   "outputs": [
    {
     "name": "stdout",
     "output_type": "stream",
     "text": [
      "Точность попадания в тот же самый класс (hard-точность): \n",
      "URO    BIL    KET    BLO    PRO    NIT    LEU    GLU    SG    PH   \n",
      "0.91   0.85   0.88   0.15   0.42   0.73   0.61   0.48   0.36   0.09   \n",
      "\n",
      "Средняя hard-точность: 0.55\n",
      "\n",
      "Точность попадания в +/- 1 класс (soft-точность):\n",
      "URO    BIL    KET    BLO    PRO    NIT    LEU    GLU    SG    PH   \n",
      "0.91   1.00   1.00   0.52   1.00   0.97   0.88   1.00   0.82   0.55   \n",
      "\n",
      "Средняя soft-точность: 0.86\n"
     ]
    }
   ],
   "source": [
    "comparison(real,phone_l)"
   ]
  },
  {
   "cell_type": "markdown",
   "metadata": {},
   "source": [
    "### Глаз vs телефон со вспышкой"
   ]
  },
  {
   "cell_type": "code",
   "execution_count": 30,
   "metadata": {
    "collapsed": false,
    "scrolled": true
   },
   "outputs": [
    {
     "name": "stdout",
     "output_type": "stream",
     "text": [
      "Точность попадания в тот же самый класс (hard-точность): \n",
      "URO    BIL    KET    BLO    PRO    NIT    LEU    GLU    SG    PH   \n",
      "0.94   0.58   0.85   0.21   0.33   0.73   0.55   0.55   0.45   0.24   \n",
      "\n",
      "Средняя hard-точность: 0.54\n",
      "\n",
      "Точность попадания в +/- 1 класс (soft-точность):\n",
      "URO    BIL    KET    BLO    PRO    NIT    LEU    GLU    SG    PH   \n",
      "1.00   1.00   1.00   0.45   0.97   0.97   1.00   1.00   0.76   0.58   \n",
      "\n",
      "Средняя soft-точность: 0.87\n"
     ]
    }
   ],
   "source": [
    "comparison(eye,phone_l)"
   ]
  },
  {
   "cell_type": "markdown",
   "metadata": {},
   "source": [
    "### Сравнение между телефонами"
   ]
  },
  {
   "cell_type": "code",
   "execution_count": 75,
   "metadata": {
    "collapsed": false
   },
   "outputs": [
    {
     "name": "stdout",
     "output_type": "stream",
     "text": [
      "Точность попадания в тот же самый класс (hard-точность): \n",
      "URO    BIL    KET    BLO    PRO    NIT    LEU    GLU    SG    PH   \n",
      "1.00   0.85   0.94   0.30   0.55   0.64   0.70   0.64   0.55   0.15   \n",
      "\n",
      "Средняя hard-точность: 0.63\n",
      "\n",
      "Точность попадания в +/- 1 класс (soft-точность):\n",
      "URO    BIL    KET    BLO    PRO    NIT    LEU    GLU    SG    PH   \n",
      "1.00   1.00   0.97   0.61   1.00   1.00   1.00   1.00   0.85   0.82   \n",
      "\n",
      "Средняя soft-точность: 0.92\n"
     ]
    }
   ],
   "source": [
    "comparison(phone_n,phone_l)"
   ]
  },
  {
   "cell_type": "markdown",
   "metadata": {},
   "source": [
    "### Выводы:\n",
    "\n",
    "Телефон со вспышкой сейчас даёт результаты хуже, чем телефон без вспышки."
   ]
  },
  {
   "cell_type": "markdown",
   "metadata": {},
   "source": [
    "### Статистически ли значимы отличия в долях правильных ответов между телефоном со вспышкой и без вспышки?"
   ]
  },
  {
   "cell_type": "code",
   "execution_count": 63,
   "metadata": {
    "collapsed": true
   },
   "outputs": [],
   "source": [
    "import scipy.stats as stats\n",
    "import statsmodels.stats.multitest as smm"
   ]
  },
  {
   "cell_type": "code",
   "execution_count": 64,
   "metadata": {
    "collapsed": true
   },
   "outputs": [],
   "source": [
    "def proportions_diff_z_stat_ind(sample1, sample2): #Z-статистика для разности долей\n",
    "    n1 = len(sample1)\n",
    "    n2 = len(sample2)\n",
    "    \n",
    "    p1 = float(sum(sample1)) / n1\n",
    "    p2 = float(sum(sample2)) / n2 \n",
    "    P = float(p1*n1 + p2*n2) / (n1 + n2)\n",
    "    \n",
    "    return (p1 - p2) / np.sqrt(P * (1 - P) * (1. / n1 + 1. / n2))\n",
    "\n",
    "\n",
    "def proportions_diff_z_test(z_stat, alternative = 'two-sided'):\n",
    "    #достигаемый уровень значимости для Z-статистики\n",
    "    if alternative not in ('two-sided', 'less', 'greater'):\n",
    "        raise ValueError(\"alternative not recognized\\n\"\n",
    "                         \"should be 'two-sided', 'less' or 'greater'\")\n",
    "    \n",
    "    if alternative == 'two-sided':\n",
    "        return 2 * (1 - stats.norm.cdf(np.abs(z_stat)))\n",
    "    \n",
    "    if alternative == 'less':\n",
    "        return stats.norm.cdf(z_stat)\n",
    "\n",
    "    if alternative == 'greater':\n",
    "        return 1 - stats.norm.cdf(z_stat)\n"
   ]
  },
  {
   "cell_type": "code",
   "execution_count": 65,
   "metadata": {
    "collapsed": false
   },
   "outputs": [
    {
     "name": "stderr",
     "output_type": "stream",
     "text": [
      "/home/boris/anaconda2/lib/python2.7/site-packages/ipykernel/__main__.py:9: RuntimeWarning: invalid value encountered in double_scalars\n"
     ]
    }
   ],
   "source": [
    "p_vals = []\n",
    "for column in indicators:\n",
    "    sample_1 = np.abs(phone_l[column].values - real[column].values)<=1\n",
    "    sample_2 = np.abs(phone_n[column].values - real[column].values)<=1\n",
    "\n",
    "    Z = proportions_diff_z_stat_ind(sample_1,sample_2)\n",
    "    p_vals.append(proportions_diff_z_test(Z))"
   ]
  },
  {
   "cell_type": "code",
   "execution_count": 66,
   "metadata": {
    "collapsed": false
   },
   "outputs": [
    {
     "name": "stdout",
     "output_type": "stream",
     "text": [
      "Индикаторы, для которых статистически значимо отличие долей soft-правильных ответов: \n",
      "['PH']\n"
     ]
    }
   ],
   "source": [
    "print \"Индикаторы, для которых статистически значимо отличие долей soft-правильных ответов: \"\n",
    "print indicators[smm.multipletests(p_vals)[0]].values"
   ]
  },
  {
   "cell_type": "code",
   "execution_count": 67,
   "metadata": {
    "collapsed": true
   },
   "outputs": [],
   "source": [
    "p_vals = []\n",
    "for column in indicators:\n",
    "    sample_1 = phone_l[column].values == real[column].values\n",
    "    sample_2 = phone_n[column].values == real[column].values\n",
    "\n",
    "    Z = proportions_diff_z_stat_ind(sample_1,sample_2)\n",
    "    p_vals.append(proportions_diff_z_test(Z))"
   ]
  },
  {
   "cell_type": "code",
   "execution_count": 68,
   "metadata": {
    "collapsed": false
   },
   "outputs": [
    {
     "name": "stdout",
     "output_type": "stream",
     "text": [
      "Индикаторы, для которых статистически значимо отличие долей hard-правильных ответов: \n",
      "['BLO' 'PRO' 'GLU' 'PH']\n"
     ]
    }
   ],
   "source": [
    "print \"Индикаторы, для которых статистически значимо отличие долей hard-правильных ответов: \"\n",
    "print indicators[smm.multipletests(p_vals)[0]].values"
   ]
  },
  {
   "cell_type": "markdown",
   "metadata": {},
   "source": [
    "т.е. не для всех индикаторов статистически значимо отличие между долей правильных ответов для телефона со вспышкой и без вспышки  "
   ]
  },
  {
   "cell_type": "code",
   "execution_count": 70,
   "metadata": {
    "collapsed": true
   },
   "outputs": [],
   "source": [
    "import FisherExact\n",
    "def fisher_exact(data_1,data_2,indicators):\n",
    "    p_vals = [] \n",
    "    tables = [] \n",
    "    names = []\n",
    "    for column in indicators:\n",
    "        table = pd.crosstab(data_1[column].values,data_2[column].values)\n",
    "        if min(table.shape)>2:\n",
    "            names.append(column)\n",
    "            tables.append(table)\n",
    "            p_vals.append(FisherExact.fisher_exact(table))\n",
    "            \n",
    "    p_vals = np.array(p_vals)\n",
    "    names = np.array(names)\n",
    "    \n",
    "    return p_vals, names"
   ]
  },
  {
   "cell_type": "code",
   "execution_count": 76,
   "metadata": {
    "collapsed": true
   },
   "outputs": [],
   "source": [
    "p, n = fisher_exact(phone_l,phone_n,indicators)"
   ]
  },
  {
   "cell_type": "markdown",
   "metadata": {},
   "source": [
    "Индикаторы, для которых корреляция алгоритма **для телефона со вспышкой и без** статистически значима:  "
   ]
  },
  {
   "cell_type": "code",
   "execution_count": 90,
   "metadata": {
    "collapsed": false
   },
   "outputs": [
    {
     "data": {
      "text/plain": [
       "['KET', 'BLO', 'PRO', 'NIT', 'GLU', 'SG', 'PH']"
      ]
     },
     "execution_count": 90,
     "metadata": {},
     "output_type": "execute_result"
    }
   ],
   "source": [
    "n[smm.multipletests(p,method='fdr_bh')[0]].tolist()"
   ]
  },
  {
   "cell_type": "markdown",
   "metadata": {},
   "source": [
    "Для каких нет"
   ]
  },
  {
   "cell_type": "code",
   "execution_count": 91,
   "metadata": {
    "collapsed": false
   },
   "outputs": [
    {
     "data": {
      "text/plain": [
       "[]"
      ]
     },
     "execution_count": 91,
     "metadata": {},
     "output_type": "execute_result"
    }
   ],
   "source": [
    "n[smm.multipletests(p,method='fdr_bh')[0]==False].tolist()"
   ]
  },
  {
   "cell_type": "markdown",
   "metadata": {},
   "source": [
    "Для каких невозможно сделать оценку, т.к. таблица сопряженности имеет только одну строку/столбец"
   ]
  },
  {
   "cell_type": "code",
   "execution_count": 92,
   "metadata": {
    "collapsed": false
   },
   "outputs": [
    {
     "data": {
      "text/plain": [
       "{'BIL', 'LEU', 'URO'}"
      ]
     },
     "execution_count": 92,
     "metadata": {},
     "output_type": "execute_result"
    }
   ],
   "source": [
    "set(indicators) - set(n)"
   ]
  },
  {
   "cell_type": "markdown",
   "metadata": {},
   "source": [
    "В дальнейшем, следует обратить внимание на показатели: билирубин, лейкоциты, уробилиноген. Пока на них только объекты с отрицательным классом."
   ]
  }
 ],
 "metadata": {
  "kernelspec": {
   "display_name": "Python 2",
   "language": "python",
   "name": "python2"
  },
  "language_info": {
   "codemirror_mode": {
    "name": "ipython",
    "version": 2
   },
   "file_extension": ".py",
   "mimetype": "text/x-python",
   "name": "python",
   "nbconvert_exporter": "python",
   "pygments_lexer": "ipython2",
   "version": "2.7.13"
  }
 },
 "nbformat": 4,
 "nbformat_minor": 2
}
