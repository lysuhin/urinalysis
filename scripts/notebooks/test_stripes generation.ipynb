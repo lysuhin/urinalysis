{
 "cells": [
  {
   "cell_type": "code",
   "execution_count": 2,
   "metadata": {
    "ExecuteTime": {
     "end_time": "2017-09-03T11:41:19.631456Z",
     "start_time": "2017-09-03T11:41:19.268959Z"
    },
    "collapsed": true
   },
   "outputs": [],
   "source": [
    "%matplotlib inline"
   ]
  },
  {
   "cell_type": "code",
   "execution_count": 3,
   "metadata": {
    "ExecuteTime": {
     "end_time": "2017-09-03T11:41:27.517519Z",
     "start_time": "2017-09-03T11:41:19.637192Z"
    }
   },
   "outputs": [
    {
     "data": {
      "text/plain": [
       "<module 'stripes.palette' from 'stripes/palette.pyc'>"
      ]
     },
     "execution_count": 3,
     "metadata": {},
     "output_type": "execute_result"
    }
   ],
   "source": [
    "import numpy as np\n",
    "import cv2 \n",
    "import stripes.palette as palette\n",
    "import seaborn as sns\n",
    "import matplotlib.pyplot as plt\n",
    "sns.set_style('white')\n",
    "\n",
    "reload(palette)"
   ]
  },
  {
   "cell_type": "code",
   "execution_count": 4,
   "metadata": {
    "ExecuteTime": {
     "end_time": "2017-09-03T11:41:27.527448Z",
     "start_time": "2017-09-03T11:41:27.521997Z"
    },
    "collapsed": true
   },
   "outputs": [],
   "source": [
    "import os\n",
    "import pandas as pd"
   ]
  },
  {
   "cell_type": "code",
   "execution_count": 5,
   "metadata": {
    "ExecuteTime": {
     "end_time": "2017-09-03T11:41:27.623969Z",
     "start_time": "2017-09-03T11:41:27.534011Z"
    },
    "collapsed": true
   },
   "outputs": [],
   "source": [
    "def create_random_stripe(image_name):\n",
    "    plt.ioff()\n",
    "    fig = plt.figure(figsize=(12, 2))\n",
    "    template = np.ones((48, 48, 3))\n",
    "    color = np.array((255, 255, 255))\n",
    "    img = (template * color).astype('uint8')\n",
    "    plt.subplot(1, len(palette.agents_list) + 5, 1)\n",
    "    plt.imshow(img)\n",
    "    plt.axis('off')\n",
    "    plt.text(x=1,y=16,s=os.path.basename(image_name),fontsize=16)\n",
    "    plt.subplot(1, len(palette.agents_list) + 5, 2)\n",
    "    plt.imshow(img)\n",
    "    plt.axis('off')\n",
    "    \n",
    "    row_dict = {'N': image_name}\n",
    "    \n",
    "    for i,agent in enumerate(palette.agents_list):\n",
    "        plt.subplot(1, len(palette.agents_list) + 5, 4 + i)\n",
    "        if agent != 'BLO':\n",
    "            index = np.random.randint(0, high=len(palette.points_dict[agent]))\n",
    "        else:\n",
    "            index = np.random.choice([0, 3, 4, 5, 6])\n",
    "        template = np.ones((48, 48, 3))\n",
    "        color = np.array(palette.points_dict[agent][index])\n",
    "        img = (template * color).astype('uint8')\n",
    "        plt.imshow(img)\n",
    "#         plt.title(\"{}\\n{}\".format(agent, index))\n",
    "        plt.axis('off')\n",
    "        plt.subplots_adjust(wspace=0.01, top=2.0, bottom=0.5)\n",
    "        row_dict.update({agent: palette.targets_dict[agent][index]})\n",
    "\n",
    "    plt.tight_layout()\n",
    "    \n",
    "    plt.savefig(image_name,bbox_inches = 'tight',pad_inches=0.1)\n",
    "\n",
    "    img = cv2.imread(image_name)\n",
    "    img[0:3,:,:] = 0\n",
    "    img[:,0:3,:] = 0\n",
    "    img[:,-3:,:] = 0\n",
    "    img[-3:,:,:] = 0\n",
    "    cv2.imwrite(image_name,img)\n",
    "    plt.close()\n",
    "    \n",
    "    return row_dict"
   ]
  },
  {
   "cell_type": "code",
   "execution_count": 12,
   "metadata": {
    "ExecuteTime": {
     "end_time": "2017-08-31T07:21:06.994949Z",
     "start_time": "2017-08-31T07:21:06.867584Z"
    }
   },
   "outputs": [
    {
     "name": "stdout",
     "output_type": "stream",
     "text": [
      "mkdir: cannot create directory ‘random_stripes’: File exists\r\n"
     ]
    }
   ],
   "source": [
    "!mkdir random_stripes"
   ]
  },
  {
   "cell_type": "code",
   "execution_count": 37,
   "metadata": {
    "ExecuteTime": {
     "end_time": "2017-08-31T07:27:10.201542Z",
     "start_time": "2017-08-31T07:27:10.193642Z"
    },
    "collapsed": true
   },
   "outputs": [],
   "source": [
    "path = \"random_stripes/\""
   ]
  },
  {
   "cell_type": "code",
   "execution_count": 38,
   "metadata": {
    "ExecuteTime": {
     "end_time": "2017-08-31T07:27:10.483726Z",
     "start_time": "2017-08-31T07:27:10.472633Z"
    },
    "collapsed": true
   },
   "outputs": [],
   "source": [
    "def generate_stripes(n_to_generate):\n",
    "    data = pd.DataFrame(columns=['N'] + palette.agents_list)\n",
    "    \n",
    "    for i in xrange(n_to_generate):\n",
    "        basename = str(i) + '.png'\n",
    "        full_name = os.path.join(path,basename)\n",
    "        data = data.append(create_random_stripe(full_name), ignore_index=True)\n",
    "\n",
    "    return data "
   ]
  },
  {
   "cell_type": "code",
   "execution_count": 39,
   "metadata": {
    "ExecuteTime": {
     "end_time": "2017-08-31T07:27:12.540525Z",
     "start_time": "2017-08-31T07:27:10.817113Z"
    },
    "collapsed": true,
    "scrolled": true
   },
   "outputs": [],
   "source": [
    "data = generate_stripes(n_to_generate = 1)"
   ]
  },
  {
   "cell_type": "code",
   "execution_count": 32,
   "metadata": {
    "ExecuteTime": {
     "end_time": "2017-08-31T07:26:18.968994Z",
     "start_time": "2017-08-31T07:26:18.958721Z"
    },
    "collapsed": true
   },
   "outputs": [],
   "source": [
    "data.to_csv(os.path.join(path,\"data.csv\"), sep=';')"
   ]
  },
  {
   "cell_type": "markdown",
   "metadata": {},
   "source": [
    "#### TODO: можно сделать генерацию через opencv, так будет гораздо быстрее"
   ]
  },
  {
   "cell_type": "markdown",
   "metadata": {},
   "source": [
    "## Ахтунг\n",
    "Ниже идёт **хардкод**, чтобы склеивать только что созданные картинки. Никаких констант. Если нужно что-то более кастомизируемое, то лучше переделать. Для 100 картинок точно нормально работает (можно ещё вариант с генерацией 10 картинок по 10 полосок)"
   ]
  },
  {
   "cell_type": "code",
   "execution_count": 35,
   "metadata": {
    "collapsed": true
   },
   "outputs": [],
   "source": [
    "img = cv2.imread(os.path.join(path,'0.png'))"
   ]
  },
  {
   "cell_type": "code",
   "execution_count": 36,
   "metadata": {
    "collapsed": true
   },
   "outputs": [],
   "source": [
    "k = img.shape[0]\n",
    "\n",
    "for i in xrange(5):\n",
    "    full_img_name = \"full_{}.png\".format(i)\n",
    "    full_img = np.zeros((img.shape[0]*20,img.shape[1],img.shape[2]))\n",
    "    \n",
    "    \n",
    "    for j in xrange(20):\n",
    "        name = \"{}.png\".format(20*i + j)\n",
    "\n",
    "        \n",
    "        img_to_stack = cv2.imread(os.path.join(path,name))\n",
    "        \n",
    "        full_img[j*k:(j+1)*k,:,:]= img_to_stack\n",
    "    cv2.imwrite(os.path.join(path,full_img_name),full_img)"
   ]
  },
  {
   "cell_type": "code",
   "execution_count": 37,
   "metadata": {
    "collapsed": true
   },
   "outputs": [],
   "source": [
    "plt.ion()"
   ]
  },
  {
   "cell_type": "code",
   "execution_count": 38,
   "metadata": {
    "scrolled": false
   },
   "outputs": [
    {
     "data": {
      "text/plain": [
       "<matplotlib.image.AxesImage at 0x7f2d74f27e10>"
      ]
     },
     "execution_count": 38,
     "metadata": {},
     "output_type": "execute_result"
    },
    {
     "data": {
      "image/png": "[encoded data removed]",
      "text/plain": [
       "<matplotlib.figure.Figure at 0x7f2d75f8eb10>"
      ]
     },
     "metadata": {},
     "output_type": "display_data"
    }
   ],
   "source": [
    "plt.figure(figsize=(8,12))\n",
    "img = cv2.imread(os.path.join(path,'full_0.png'))\n",
    "plt.imshow(cv2.cvtColor(img,cv2.COLOR_BGR2RGB))"
   ]
  },
  {
   "cell_type": "markdown",
   "metadata": {
    "collapsed": true
   },
   "source": [
    "`с OpenCV`:"
   ]
  },
  {
   "cell_type": "code",
   "execution_count": 57,
   "metadata": {
    "ExecuteTime": {
     "end_time": "2017-09-03T11:56:01.947821Z",
     "start_time": "2017-09-03T11:56:01.929413Z"
    },
    "collapsed": true
   },
   "outputs": [],
   "source": [
    "def make_template(height=50, width=1200, left_margin=500, pool_side=40, n_pools=10):\n",
    "    \n",
    "    template = (np.ones((height + 1, width, 3)) * 255).astype(np.uint8)\n",
    "    cv2.rectangle(template, (0, 0), (width-1, height), (0, 0, 0), 1)\n",
    "    \n",
    "    top_margin = (height - pool_side) / 2\n",
    "    pool_margin = (width - left_margin) / n_pools - pool_side\n",
    "    \n",
    "    coords = []\n",
    "    for i in xrange(n_pools):\n",
    "        coords.append((left_margin + i * (pool_side + pool_margin) + (pool_side / 2), height / 2))\n",
    "        cv2.rectangle(template, (left_margin + i * (pool_side + pool_margin), top_margin),\n",
    "                             (left_margin + i * (pool_side + pool_margin) + pool_side, height - top_margin),\n",
    "                     (0, 0, 0), 1)\n",
    "        \n",
    "    # возврат шаблона и списка координат центров ячеек\n",
    "    return template, coords"
   ]
  },
  {
   "cell_type": "code",
   "execution_count": 58,
   "metadata": {
    "ExecuteTime": {
     "end_time": "2017-09-03T11:56:02.695780Z",
     "start_time": "2017-09-03T11:56:02.435212Z"
    }
   },
   "outputs": [
    {
     "data": {
      "image/png": "[encoded data removed]",
      "text/plain": [
       "<matplotlib.figure.Figure at 0x7fccac03cf10>"
      ]
     },
     "metadata": {},
     "output_type": "display_data"
    },
    {
     "name": "stdout",
     "output_type": "stream",
     "text": [
      "[(144, 9), (163, 9), (182, 9), (201, 9), (220, 9), (239, 9), (258, 9), (277, 9), (296, 9), (315, 9)]\n"
     ]
    }
   ],
   "source": [
    "template, coords = make_template(18, 330, 138, 12)\n",
    "\n",
    "plt.figure(figsize=(18, 5))\n",
    "plt.axis('off')\n",
    "plt.imshow(template)\n",
    "plt.show()\n",
    "print coords"
   ]
  },
  {
   "cell_type": "code",
   "execution_count": 59,
   "metadata": {
    "ExecuteTime": {
     "end_time": "2017-09-03T11:56:15.961212Z",
     "start_time": "2017-09-03T11:56:15.948012Z"
    },
    "collapsed": true
   },
   "outputs": [],
   "source": [
    "def fill_template(template, coords, colors):\n",
    "    colored_template = template.copy()\n",
    "    for j, (x, y) in enumerate(coords):\n",
    "        cv2.floodFill(colored_template, None, (x, y), colors[j])\n",
    "    return colored_template"
   ]
  },
  {
   "cell_type": "code",
   "execution_count": 60,
   "metadata": {
    "ExecuteTime": {
     "end_time": "2017-09-03T11:56:16.780676Z",
     "start_time": "2017-09-03T11:56:16.528973Z"
    }
   },
   "outputs": [
    {
     "data": {
      "image/png": "[encoded data removed]",
      "text/plain": [
       "<matplotlib.figure.Figure at 0x7fccadf5e550>"
      ]
     },
     "metadata": {},
     "output_type": "display_data"
    }
   ],
   "source": [
    "colored_template = fill_template(template, coords, [(127, 127, i * 255 / 10) for i in xrange(10)])\n",
    "\n",
    "plt.figure(figsize=(18, 5))\n",
    "plt.axis('off')\n",
    "plt.imshow(colored_template)\n",
    "plt.show()"
   ]
  },
  {
   "cell_type": "code",
   "execution_count": 61,
   "metadata": {
    "ExecuteTime": {
     "end_time": "2017-09-03T11:56:19.063628Z",
     "start_time": "2017-09-03T11:56:19.048480Z"
    },
    "collapsed": true
   },
   "outputs": [],
   "source": [
    "def entitle_template(template, title):\n",
    "    pos = 50, int(template.shape[0] * 2. / 3)\n",
    "    entitled_template = template.copy()\n",
    "    cv2.putText(entitled_template, title, pos, cv2.FONT_HERSHEY_SIMPLEX, 0.35, (0, 0, 0))\n",
    "    return entitled_template"
   ]
  },
  {
   "cell_type": "code",
   "execution_count": 62,
   "metadata": {
    "ExecuteTime": {
     "end_time": "2017-09-03T11:56:20.116089Z",
     "start_time": "2017-09-03T11:56:19.880182Z"
    }
   },
   "outputs": [
    {
     "data": {
      "image/png": "[encoded data removed]",
      "text/plain": [
       "<matplotlib.figure.Figure at 0x7fccadd6e550>"
      ]
     },
     "metadata": {},
     "output_type": "display_data"
    }
   ],
   "source": [
    "ready_template = entitle_template(colored_template, \"12\")\n",
    "plt.figure(figsize=(18, 5))\n",
    "plt.axis('off')\n",
    "plt.imshow(ready_template)\n",
    "plt.show()"
   ]
  },
  {
   "cell_type": "code",
   "execution_count": 70,
   "metadata": {
    "ExecuteTime": {
     "end_time": "2017-09-03T11:59:20.903639Z",
     "start_time": "2017-09-03T11:59:20.888235Z"
    },
    "collapsed": true
   },
   "outputs": [],
   "source": [
    "def create_random_stripe_(image_name):\n",
    "    row_dict = {'N': image_name}\n",
    "    colors = []\n",
    "    for i,agent in enumerate(palette.agents_list):\n",
    "        if agent != 'BLO':\n",
    "            index = np.random.randint(0, high=len(palette.points_dict[agent]))\n",
    "        else:\n",
    "            index = np.random.choice([0, 3, 4, 5, 6])\n",
    "        colors.append(palette.points_dict[agent][index])        \n",
    "        row_dict.update({agent: palette.targets_dict[agent][index]})\n",
    "    template, coords = make_template(18, 330, 138, 12, n_pools=len(palette.agents_list))            \n",
    "    colored_template = fill_template(template, coords, colors[::-1])\n",
    "    entitled_template = entitle_template(colored_template, image_name)\n",
    "    return entitled_template, row_dict"
   ]
  },
  {
   "cell_type": "code",
   "execution_count": 71,
   "metadata": {
    "ExecuteTime": {
     "end_time": "2017-09-03T11:59:21.393983Z",
     "start_time": "2017-09-03T11:59:21.390056Z"
    },
    "collapsed": true
   },
   "outputs": [],
   "source": [
    "cl, rd = create_random_stripe_(\"1488\")"
   ]
  },
  {
   "cell_type": "code",
   "execution_count": 72,
   "metadata": {
    "ExecuteTime": {
     "end_time": "2017-09-03T11:59:22.135799Z",
     "start_time": "2017-09-03T11:59:21.900471Z"
    }
   },
   "outputs": [
    {
     "data": {
      "image/png": "[encoded data removed]",
      "text/plain": [
       "<matplotlib.figure.Figure at 0x7fccadfa7dd0>"
      ]
     },
     "metadata": {},
     "output_type": "display_data"
    },
    {
     "name": "stdout",
     "output_type": "stream",
     "text": [
      "{'BIL': 2, 'PRO': 1, 'URO': 0.2, 'N': '1488', 'BLO': 3, 'LEU': 1, 'pH': 7.5, 'KET': 40, 'SG': 1.02, 'GLU': 250, 'NIT': 1}\n"
     ]
    }
   ],
   "source": [
    "plt.figure(figsize=(18, 5))\n",
    "plt.axis('off')\n",
    "plt.imshow(cl)\n",
    "plt.show()\n",
    "\n",
    "print rd"
   ]
  },
  {
   "cell_type": "code",
   "execution_count": 73,
   "metadata": {
    "ExecuteTime": {
     "end_time": "2017-09-03T11:59:29.259692Z",
     "start_time": "2017-09-03T11:59:29.229258Z"
    },
    "collapsed": true
   },
   "outputs": [],
   "source": [
    "def create_table(n_strips=5, names=None, add_space=False):\n",
    "    if names is None:\n",
    "        names = [\"{}.png\".format(j) for j in xrange(n_strips)]\n",
    "    assert len(names) == n_strips\n",
    "    \n",
    "    strips = []\n",
    "    data = pd.DataFrame(columns=['N'] + palette.agents_list)\n",
    "    \n",
    "    for j in xrange(n_strips):\n",
    "        strip, row = create_random_stripe_(names[j])\n",
    "        data = data.append(row, ignore_index=True)\n",
    "        if add_space:\n",
    "            space = np.zeros(shape=(10, strip.shape[1], 3), dtype=np.uint8) + 255\n",
    "            strips.append(space)\n",
    "        strips.append(strip)\n",
    "    strips.append(space)    \n",
    "    return np.concatenate(strips, axis=0), data"
   ]
  },
  {
   "cell_type": "code",
   "execution_count": 74,
   "metadata": {
    "ExecuteTime": {
     "end_time": "2017-09-03T11:59:30.349887Z",
     "start_time": "2017-09-03T11:59:29.477020Z"
    }
   },
   "outputs": [
    {
     "data": {
      "image/png": "[encoded data removed]",
      "text/plain": [
       "<matplotlib.figure.Figure at 0x7fccae0f6a50>"
      ]
     },
     "metadata": {},
     "output_type": "display_data"
    },
    {
     "data": {
      "text/html": [
       "<div>\n",
       "<style>\n",
       "    .dataframe thead tr:only-child th {\n",
       "        text-align: right;\n",
       "    }\n",
       "\n",
       "    .dataframe thead th {\n",
       "        text-align: left;\n",
       "    }\n",
       "\n",
       "    .dataframe tbody tr th {\n",
       "        vertical-align: top;\n",
       "    }\n",
       "</style>\n",
       "<table border=\"1\" class=\"dataframe\">\n",
       "  <thead>\n",
       "    <tr style=\"text-align: right;\">\n",
       "      <th></th>\n",
       "      <th>N</th>\n",
       "      <th>GLU</th>\n",
       "      <th>BIL</th>\n",
       "      <th>KET</th>\n",
       "      <th>SG</th>\n",
       "      <th>BLO</th>\n",
       "      <th>pH</th>\n",
       "      <th>PRO</th>\n",
       "      <th>URO</th>\n",
       "      <th>NIT</th>\n",
       "      <th>LEU</th>\n",
       "    </tr>\n",
       "  </thead>\n",
       "  <tbody>\n",
       "    <tr>\n",
       "      <th>0</th>\n",
       "      <td>0.png</td>\n",
       "      <td>100</td>\n",
       "      <td>1</td>\n",
       "      <td>80</td>\n",
       "      <td>1.020</td>\n",
       "      <td>-1</td>\n",
       "      <td>7.5</td>\n",
       "      <td>0</td>\n",
       "      <td>2</td>\n",
       "      <td>0</td>\n",
       "      <td>1</td>\n",
       "    </tr>\n",
       "    <tr>\n",
       "      <th>1</th>\n",
       "      <td>1.png</td>\n",
       "      <td>1000</td>\n",
       "      <td>2</td>\n",
       "      <td>40</td>\n",
       "      <td>1.030</td>\n",
       "      <td>4</td>\n",
       "      <td>6.0</td>\n",
       "      <td>3</td>\n",
       "      <td>4</td>\n",
       "      <td>1</td>\n",
       "      <td>3</td>\n",
       "    </tr>\n",
       "    <tr>\n",
       "      <th>2</th>\n",
       "      <td>2.png</td>\n",
       "      <td>500</td>\n",
       "      <td>-1</td>\n",
       "      <td>80</td>\n",
       "      <td>1.030</td>\n",
       "      <td>4</td>\n",
       "      <td>7.5</td>\n",
       "      <td>4</td>\n",
       "      <td>0.2</td>\n",
       "      <td>1</td>\n",
       "      <td>1</td>\n",
       "    </tr>\n",
       "    <tr>\n",
       "      <th>3</th>\n",
       "      <td>3.png</td>\n",
       "      <td>250</td>\n",
       "      <td>1</td>\n",
       "      <td>15</td>\n",
       "      <td>1.025</td>\n",
       "      <td>4</td>\n",
       "      <td>8.5</td>\n",
       "      <td>2</td>\n",
       "      <td>0.2</td>\n",
       "      <td>1</td>\n",
       "      <td>0</td>\n",
       "    </tr>\n",
       "    <tr>\n",
       "      <th>4</th>\n",
       "      <td>4.png</td>\n",
       "      <td>250</td>\n",
       "      <td>3</td>\n",
       "      <td>160</td>\n",
       "      <td>1.015</td>\n",
       "      <td>3</td>\n",
       "      <td>5.0</td>\n",
       "      <td>-1</td>\n",
       "      <td>4</td>\n",
       "      <td>1</td>\n",
       "      <td>3</td>\n",
       "    </tr>\n",
       "  </tbody>\n",
       "</table>\n",
       "</div>"
      ],
      "text/plain": [
       "       N   GLU BIL  KET     SG BLO   pH PRO  URO NIT LEU\n",
       "0  0.png   100   1   80  1.020  -1  7.5   0    2   0   1\n",
       "1  1.png  1000   2   40  1.030   4  6.0   3    4   1   3\n",
       "2  2.png   500  -1   80  1.030   4  7.5   4  0.2   1   1\n",
       "3  3.png   250   1   15  1.025   4  8.5   2  0.2   1   0\n",
       "4  4.png   250   3  160  1.015   3  5.0  -1    4   1   3"
      ]
     },
     "execution_count": 74,
     "metadata": {},
     "output_type": "execute_result"
    }
   ],
   "source": [
    "table, data = create_table(20, add_space=True)\n",
    "\n",
    "plt.figure(figsize=(25, 15))\n",
    "plt.axis('off')\n",
    "plt.imshow(table)\n",
    "plt.show()\n",
    "\n",
    "data.head()"
   ]
  },
  {
   "cell_type": "code",
   "execution_count": 75,
   "metadata": {
    "ExecuteTime": {
     "end_time": "2017-09-03T11:59:34.846915Z",
     "start_time": "2017-09-03T11:59:34.821393Z"
    }
   },
   "outputs": [
    {
     "data": {
      "text/plain": [
       "True"
      ]
     },
     "execution_count": 75,
     "metadata": {},
     "output_type": "execute_result"
    }
   ],
   "source": [
    "cv2.imwrite(\"table_compact.png\", cv2.cvtColor(table, cv2.COLOR_RGB2BGR))"
   ]
  },
  {
   "cell_type": "code",
   "execution_count": 76,
   "metadata": {
    "ExecuteTime": {
     "end_time": "2017-09-03T11:59:35.104991Z",
     "start_time": "2017-09-03T11:59:35.098600Z"
    },
    "collapsed": true
   },
   "outputs": [],
   "source": [
    "data.to_csv(\"table_compact.csv\", sep=';')"
   ]
  },
  {
   "cell_type": "code",
   "execution_count": null,
   "metadata": {
    "collapsed": true
   },
   "outputs": [],
   "source": []
  }
 ],
 "metadata": {
  "kernelspec": {
   "display_name": "Python [default]",
   "language": "python",
   "name": "python2"
  },
  "language_info": {
   "codemirror_mode": {
    "name": "ipython",
    "version": 2
   },
   "file_extension": ".py",
   "mimetype": "text/x-python",
   "name": "python",
   "nbconvert_exporter": "python",
   "pygments_lexer": "ipython2",
   "version": "2.7.13"
  }
 },
 "nbformat": 4,
 "nbformat_minor": 2
}
