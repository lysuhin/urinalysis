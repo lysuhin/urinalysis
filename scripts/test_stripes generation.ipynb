{
 "cells": [
  {
   "cell_type": "code",
   "execution_count": 1,
   "metadata": {
    "ExecuteTime": {
     "end_time": "2017-08-30T16:35:04.794414Z",
     "start_time": "2017-08-30T16:35:04.406643Z"
    }
   },
   "outputs": [
    {
     "name": "stdout",
     "output_type": "stream",
     "text": [
      "Populating the interactive namespace from numpy and matplotlib\n"
     ]
    }
   ],
   "source": [
    "%pylab inline"
   ]
  },
  {
   "cell_type": "code",
   "execution_count": 2,
   "metadata": {
    "ExecuteTime": {
     "end_time": "2017-08-30T16:35:05.545128Z",
     "start_time": "2017-08-30T16:35:04.798989Z"
    }
   },
   "outputs": [
    {
     "data": {
      "text/plain": [
       "<module 'stripes.palette' from 'stripes/palette.pyc'>"
      ]
     },
     "execution_count": 2,
     "metadata": {},
     "output_type": "execute_result"
    }
   ],
   "source": [
    "import numpy as np\n",
    "import cv2 \n",
    "import stripes.palette as palette\n",
    "import seaborn as sns\n",
    "import matplotlib.pyplot as plt\n",
    "sns.set_style('white')\n",
    "\n",
    "reload(palette)"
   ]
  },
  {
   "cell_type": "code",
   "execution_count": 3,
   "metadata": {
    "ExecuteTime": {
     "end_time": "2017-08-30T16:35:05.554482Z",
     "start_time": "2017-08-30T16:35:05.549502Z"
    },
    "collapsed": true
   },
   "outputs": [],
   "source": [
    "import os\n",
    "import pandas as pd"
   ]
  },
  {
   "cell_type": "code",
   "execution_count": 4,
   "metadata": {
    "ExecuteTime": {
     "end_time": "2017-08-30T16:35:05.643931Z",
     "start_time": "2017-08-30T16:35:05.558419Z"
    }
   },
   "outputs": [],
   "source": [
    "def create_random_stripe(image_name):\n",
    "    plt.ioff()\n",
    "    fig = plt.figure(figsize=(12, 2))\n",
    "    template = np.ones((32, 32, 3))\n",
    "    color = np.array((255, 255, 255))\n",
    "    img = (template * color).astype('uint8')\n",
    "    plt.subplot(1, len(palette.agents_list) + 4, 1)\n",
    "    plt.imshow(img)\n",
    "    plt.axis('off')\n",
    "    plt.subplot(1, len(palette.agents_list) + 4, 2)\n",
    "    plt.imshow(img)\n",
    "    plt.axis('off')\n",
    "    \n",
    "    row_dict = {'N': image_name}\n",
    "    \n",
    "    for i,agent in enumerate(palette.agents_list):\n",
    "        plt.subplot(1, len(palette.agents_list) + 4, 4 + i)\n",
    "        if agent != 'BLO':\n",
    "            index = np.random.randint(0, high=len(palette.points_dict[agent]))\n",
    "        else:\n",
    "            index = np.random.choice([0, 3, 4, 5, 6])\n",
    "        template = np.ones((32, 32, 3))\n",
    "        color = np.array(palette.points_dict[agent][index])\n",
    "        img = (template * color).astype('uint8')\n",
    "        plt.imshow(img)\n",
    "#         plt.title(\"{}\\n{}\".format(agent, index))\n",
    "        plt.axis('off')\n",
    "        plt.subplots_adjust(wspace=0.2)\n",
    "        row_dict.update({agent: palette.targets_dict[agent][index]})\n",
    "\n",
    "    plt.tight_layout()\n",
    "    plt.savefig(image_name)\n",
    "\n",
    "    img = cv2.imread(image_name)\n",
    "    img[0:3,:,:] = 0\n",
    "    img[:,0:3,:] = 0\n",
    "    img[:,-3:,:] = 0\n",
    "    img[-3:,:,:] = 0\n",
    "    cv2.imwrite(image_name,img)\n",
    "    plt.close()\n",
    "    \n",
    "    return row_dict"
   ]
  },
  {
   "cell_type": "code",
   "execution_count": 5,
   "metadata": {
    "ExecuteTime": {
     "end_time": "2017-08-30T16:35:05.749523Z",
     "start_time": "2017-08-30T16:35:05.648040Z"
    }
   },
   "outputs": [],
   "source": [
    "data = pd.DataFrame(columns=['N'] + palette.agents_list)"
   ]
  },
  {
   "cell_type": "code",
   "execution_count": 6,
   "metadata": {
    "ExecuteTime": {
     "end_time": "2017-08-30T16:35:05.957801Z",
     "start_time": "2017-08-30T16:35:05.752757Z"
    }
   },
   "outputs": [
    {
     "name": "stdout",
     "output_type": "stream",
     "text": [
      "mkdir: cannot create directory ‘random_stripes’: File exists\r\n"
     ]
    }
   ],
   "source": [
    "!mkdir random_stripes"
   ]
  },
  {
   "cell_type": "code",
   "execution_count": 7,
   "metadata": {
    "ExecuteTime": {
     "end_time": "2017-08-30T16:35:05.964666Z",
     "start_time": "2017-08-30T16:35:05.960481Z"
    },
    "collapsed": true
   },
   "outputs": [],
   "source": [
    "path = \"random_stripes/\""
   ]
  },
  {
   "cell_type": "code",
   "execution_count": 8,
   "metadata": {
    "ExecuteTime": {
     "end_time": "2017-08-30T16:35:07.744976Z",
     "start_time": "2017-08-30T16:35:05.968946Z"
    },
    "scrolled": true
   },
   "outputs": [],
   "source": [
    "for i in xrange(1):\n",
    "    basename = str(i) + '.png'\n",
    "    full_name = os.path.join(path,basename)\n",
    "    data = data.append(create_random_stripe(full_name), ignore_index=True)"
   ]
  },
  {
   "cell_type": "code",
   "execution_count": 9,
   "metadata": {
    "ExecuteTime": {
     "end_time": "2017-08-30T16:35:07.763613Z",
     "start_time": "2017-08-30T16:35:07.752549Z"
    }
   },
   "outputs": [],
   "source": [
    "data.to_csv(os.path.join(path,\"data.csv\"), sep=';')"
   ]
  }
 ],
 "metadata": {
  "kernelspec": {
   "display_name": "Python [default]",
   "language": "python",
   "name": "python2"
  },
  "language_info": {
   "codemirror_mode": {
    "name": "ipython",
    "version": 2
   },
   "file_extension": ".py",
   "mimetype": "text/x-python",
   "name": "python",
   "nbconvert_exporter": "python",
   "pygments_lexer": "ipython2",
   "version": "2.7.13"
  }
 },
 "nbformat": 4,
 "nbformat_minor": 2
}
