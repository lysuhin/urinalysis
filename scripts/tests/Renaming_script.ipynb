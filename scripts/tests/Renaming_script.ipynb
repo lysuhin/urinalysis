{
 "cells": [
  {
   "cell_type": "code",
   "execution_count": 1,
   "metadata": {
    "collapsed": true
   },
   "outputs": [],
   "source": [
    "import os\n",
    "import glob\n",
    "import pandas as pd"
   ]
  },
  {
   "cell_type": "markdown",
   "metadata": {},
   "source": [
    "### Инструкция:\n",
    "Запускать скрипт следует только один раз, предварительно проверив правильность отображения старых имен в новые."
   ]
  },
  {
   "cell_type": "code",
   "execution_count": 3,
   "metadata": {
    "collapsed": false
   },
   "outputs": [],
   "source": [
    "df = pd.read_csv('data/fourth_exp_29_09_17/measure_29_10.csv')"
   ]
  },
  {
   "cell_type": "code",
   "execution_count": 4,
   "metadata": {
    "collapsed": false
   },
   "outputs": [],
   "source": [
    "names = df.ID.values"
   ]
  },
  {
   "cell_type": "code",
   "execution_count": 32,
   "metadata": {
    "collapsed": false
   },
   "outputs": [
    {
     "data": {
      "text/plain": [
       "array([10115307, 10115130, 10115294, 10115293, 10114081, 10115289,\n",
       "       10115038, 10115039, 10115311, 30306073, 30306055, 30306050,\n",
       "       30306034, 30306052, 30306058, 10117154])"
      ]
     },
     "execution_count": 32,
     "metadata": {},
     "output_type": "execute_result"
    }
   ],
   "source": [
    "names"
   ]
  },
  {
   "cell_type": "code",
   "execution_count": 9,
   "metadata": {
    "collapsed": true
   },
   "outputs": [],
   "source": [
    "def get_old_names(directory_path):\n",
    "    return sorted(glob.glob(os.path.join(directory_path,'*')))"
   ]
  },
  {
   "cell_type": "code",
   "execution_count": 10,
   "metadata": {
    "collapsed": true
   },
   "outputs": [],
   "source": [
    "path = '../../images/photos_29_09/'"
   ]
  },
  {
   "cell_type": "code",
   "execution_count": 16,
   "metadata": {
    "collapsed": false
   },
   "outputs": [
    {
     "name": "stdout",
     "output_type": "stream",
     "text": [
      "10115307 IMG_20170929_132656.jpg\n",
      "10115130 IMG_20170929_133048.jpg\n",
      "10115294 IMG_20170929_133327.jpg\n",
      "10115293 IMG_20170929_133543.jpg\n",
      "10114081 IMG_20170929_133808.jpg\n",
      "10115289 IMG_20170929_134014.jpg\n",
      "10115038 IMG_20170929_134223.jpg\n",
      "10115039 IMG_20170929_134452.jpg\n",
      "10115311 IMG_20170929_134735.jpg\n",
      "30306073 IMG_20170929_135115.jpg\n",
      "30306055 IMG_20170929_135339.jpg\n",
      "30306050 IMG_20170929_135556.jpg\n",
      "30306034 IMG_20170929_135822.jpg\n",
      "30306052 IMG_20170929_140034.jpg\n",
      "30306058 IMG_20170929_140257.jpg\n",
      "10117154 IMG_20170929_141049.jpg\n"
     ]
    }
   ],
   "source": [
    "for new_name, old_name in zip(names,get_old_names(os.path.join(path,'light'))):\n",
    "    print new_name, os.path.basename(old_name)"
   ]
  },
  {
   "cell_type": "code",
   "execution_count": 41,
   "metadata": {
    "collapsed": false
   },
   "outputs": [],
   "source": [
    "def rename(directory_path):\n",
    "    if not os.path.isdir(directory_path):\n",
    "        raise OSError(\"No such directory\")\n",
    "        return None\n",
    "    for i,old_filepath in enumerate(sorted(glob.glob(os.path.join(directory_path,'*')))):\n",
    "        title,ext = os.path.splitext(os.path.basename(old_filepath))\n",
    "\n",
    "        os.rename(old_filepath,os.path.join(directory_path, str(names[i]) + ext))"
   ]
  },
  {
   "cell_type": "code",
   "execution_count": 42,
   "metadata": {
    "collapsed": true
   },
   "outputs": [],
   "source": [
    "directories = ['no_light',\n",
    "                'light']"
   ]
  },
  {
   "cell_type": "code",
   "execution_count": 43,
   "metadata": {
    "collapsed": false
   },
   "outputs": [
    {
     "data": {
      "text/plain": [
       "True"
      ]
     },
     "execution_count": 43,
     "metadata": {},
     "output_type": "execute_result"
    }
   ],
   "source": [
    "os.path.isdir(os.path.join(path,directories[1]))"
   ]
  },
  {
   "cell_type": "code",
   "execution_count": 44,
   "metadata": {
    "collapsed": false
   },
   "outputs": [],
   "source": [
    "for directory in directories:\n",
    "    rename(os.path.join(path,directory))"
   ]
  },
  {
   "cell_type": "code",
   "execution_count": null,
   "metadata": {
    "collapsed": true
   },
   "outputs": [],
   "source": []
  }
 ],
 "metadata": {
  "kernelspec": {
   "display_name": "Python 2",
   "language": "python",
   "name": "python2"
  },
  "language_info": {
   "codemirror_mode": {
    "name": "ipython",
    "version": 2
   },
   "file_extension": ".py",
   "mimetype": "text/x-python",
   "name": "python",
   "nbconvert_exporter": "python",
   "pygments_lexer": "ipython2",
   "version": "2.7.13"
  }
 },
 "nbformat": 4,
 "nbformat_minor": 2
}
