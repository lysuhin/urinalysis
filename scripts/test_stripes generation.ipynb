{
 "cells": [
  {
   "cell_type": "code",
   "execution_count": 1,
   "metadata": {
    "collapsed": false
   },
   "outputs": [
    {
     "name": "stdout",
     "output_type": "stream",
     "text": [
      "Populating the interactive namespace from numpy and matplotlib\n"
     ]
    }
   ],
   "source": [
    "%pylab inline"
   ]
  },
  {
   "cell_type": "code",
   "execution_count": 2,
   "metadata": {
    "collapsed": false
   },
   "outputs": [
    {
     "data": {
      "text/plain": [
       "<module 'stripes.palette' from 'stripes/palette.pyc'>"
      ]
     },
     "execution_count": 2,
     "metadata": {},
     "output_type": "execute_result"
    }
   ],
   "source": [
    "import numpy as np\n",
    "import cv2 \n",
    "import stripes.palette as palette\n",
    "import seaborn as sns\n",
    "import matplotlib.pyplot as plt\n",
    "sns.set_style('white')\n",
    "\n",
    "reload(palette)"
   ]
  },
  {
   "cell_type": "code",
   "execution_count": 46,
   "metadata": {
    "collapsed": false
   },
   "outputs": [],
   "source": [
    "def create_random_stripe(image_name):\n",
    "    plt.ioff()\n",
    "    fig = plt.figure(figsize=(12,2))\n",
    "    template = np.ones((64,64,3))\n",
    "    color = np.array((255,255,255))\n",
    "    img = (template*color).astype('uint8')\n",
    "    plt.subplot(1,len(palette.agents_list)+4,1)\n",
    "    plt.imshow(img)\n",
    "    plt.axis('off')\n",
    "    plt.subplot(1,len(palette.agents_list)+4,2)\n",
    "    plt.imshow(img)\n",
    "    plt.axis('off')\n",
    "\n",
    "    for i,agent in enumerate(palette.agents_list):\n",
    "        plt.subplot(1,len(palette.agents_list)+4,3+i)\n",
    "\n",
    "\n",
    "        if agent != 'BLO':\n",
    "            index = np.random.randint(0,high=len(palette.points_dict[agent]))\n",
    "        else:\n",
    "            index = np.random.choice([0,3,4,5,6])\n",
    "        template = np.ones((64,64,3))\n",
    "        color = np.array(palette.points_dict[agent][index])\n",
    "        img = (template*color).astype('uint8')\n",
    "        plt.imshow(img)\n",
    "        plt.title(\"{}\\n{}\".format(agent,index))\n",
    "        plt.axis('off')\n",
    "        plt.subplots_adjust(wspace=0.2)\n",
    "\n",
    "    #plt.tight_layout()\n",
    "\n",
    "    plt.tight_layout()\n",
    "    plt.savefig(image_name)\n",
    "\n",
    "    img = cv2.imread(image_name)\n",
    "    img[0:3,:,:] = 0\n",
    "    img[:,0:3,:] = 0\n",
    "    img[:,-3:,:] = 0\n",
    "    img[-3:,:,:] = 0\n",
    "    cv2.imwrite(image_name,img)\n",
    "    plt.close()"
   ]
  },
  {
   "cell_type": "code",
   "execution_count": 47,
   "metadata": {
    "collapsed": false
   },
   "outputs": [
    {
     "name": "stdout",
     "output_type": "stream",
     "text": [
      "mkdir: cannot create directory ‘random_stripes’: File exists\r\n"
     ]
    }
   ],
   "source": [
    "!mkdir random_stripes"
   ]
  },
  {
   "cell_type": "code",
   "execution_count": 48,
   "metadata": {
    "collapsed": true
   },
   "outputs": [],
   "source": [
    "path = \"random_stripes/\""
   ]
  },
  {
   "cell_type": "code",
   "execution_count": 49,
   "metadata": {
    "collapsed": true
   },
   "outputs": [],
   "source": [
    "import os"
   ]
  },
  {
   "cell_type": "code",
   "execution_count": 50,
   "metadata": {
    "collapsed": false,
    "scrolled": true
   },
   "outputs": [],
   "source": [
    "for i in xrange(22):\n",
    "    basename = str(i)+'.png'\n",
    "    full_name = os.path.join(path,basename)\n",
    "    create_random_stripe(full_name)"
   ]
  },
  {
   "cell_type": "code",
   "execution_count": null,
   "metadata": {
    "collapsed": true
   },
   "outputs": [],
   "source": []
  }
 ],
 "metadata": {
  "kernelspec": {
   "display_name": "Python 2",
   "language": "python",
   "name": "python2"
  },
  "language_info": {
   "codemirror_mode": {
    "name": "ipython",
    "version": 2
   },
   "file_extension": ".py",
   "mimetype": "text/x-python",
   "name": "python",
   "nbconvert_exporter": "python",
   "pygments_lexer": "ipython2",
   "version": "2.7.13"
  }
 },
 "nbformat": 4,
 "nbformat_minor": 2
}
